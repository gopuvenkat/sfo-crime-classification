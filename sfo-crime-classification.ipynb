{
 "cells": [
  {
   "cell_type": "code",
   "execution_count": 71,
   "metadata": {},
   "outputs": [],
   "source": [
    "import numpy as np\n",
    "import pandas as pd\n",
    "import matplotlib.pyplot as plt\n",
    "from sklearn.model_selection import train_test_split\n",
    "from sklearn.preprocessing import LabelEncoder,StandardScaler\n",
    "from sklearn.model_selection import cross_val_score\n",
    "from sklearn.metrics import log_loss"
   ]
  },
  {
   "cell_type": "code",
   "execution_count": 2,
   "metadata": {},
   "outputs": [],
   "source": [
    "# Dates have to extracted\n",
    "# data = pd.read_csv('train.csv', parse_dates=['Dates'])\n",
    "data = pd.read_csv('./dataset/train.csv', parse_dates=['Dates'])\n",
    "test = pd.read_csv('./dataset/test.csv', parse_dates=['Dates'])"
   ]
  },
  {
   "cell_type": "code",
   "execution_count": 3,
   "metadata": {},
   "outputs": [
    {
     "name": "stdout",
     "output_type": "stream",
     "text": [
      "<class 'pandas.core.frame.DataFrame'>\n",
      "RangeIndex: 867873 entries, 0 to 867872\n",
      "Data columns (total 10 columns):\n",
      "Dates         867873 non-null datetime64[ns]\n",
      "Category      867873 non-null object\n",
      "Descript      867873 non-null object\n",
      "DayOfWeek     867873 non-null object\n",
      "PdDistrict    867873 non-null object\n",
      "Resolution    867873 non-null object\n",
      "Address       867873 non-null object\n",
      "X             867873 non-null float64\n",
      "Y             867873 non-null float64\n",
      "Id            867873 non-null int64\n",
      "dtypes: datetime64[ns](1), float64(2), int64(1), object(6)\n",
      "memory usage: 66.2+ MB\n"
     ]
    }
   ],
   "source": [
    "data.info()"
   ]
  },
  {
   "cell_type": "code",
   "execution_count": 65,
   "metadata": {},
   "outputs": [
    {
     "data": {
      "text/plain": [
       "True"
      ]
     },
     "execution_count": 65,
     "metadata": {},
     "output_type": "execute_result"
    }
   ],
   "source": [
    "# No null values in the data-frame\n",
    "data.isnull().values.any()"
   ]
  },
  {
   "cell_type": "code",
   "execution_count": 5,
   "metadata": {},
   "outputs": [],
   "source": [
    "# Dates\n",
    "data_week_dict = {\n",
    "    'Monday': 1,\n",
    "    'Tuesday':2,\n",
    "    'Wednesday':3,\n",
    "    'Thursday':4,\n",
    "    'Friday':5,\n",
    "    'Saturday':6,\n",
    "    'Sunday':7\n",
    "}\n",
    "\n",
    "data['Hour'] = data.Dates.dt.hour\n",
    "data['Minutes'] = data.Dates.dt.minute\n",
    "data['Year'] = data.Dates.dt.year\n",
    "data['Month'] = data.Dates.dt.month\n",
    "data['Day'] = data.Dates.dt.day\n",
    "data['DayOfWeekNum'] = data['DayOfWeek'].replace(data_week_dict)\n",
    "\n",
    "test['Hour'] = test.Dates.dt.hour\n",
    "test['Minutes'] = test.Dates.dt.minute\n",
    "test['Year'] = test.Dates.dt.year\n",
    "test['Month'] = test.Dates.dt.month\n",
    "test['Day'] = test.Dates.dt.day\n",
    "test['DayOfWeekNum'] = test['DayOfWeek'].replace(data_week_dict)"
   ]
  },
  {
   "cell_type": "code",
   "execution_count": 6,
   "metadata": {},
   "outputs": [
    {
     "data": {
      "text/html": [
       "<div>\n",
       "<style scoped>\n",
       "    .dataframe tbody tr th:only-of-type {\n",
       "        vertical-align: middle;\n",
       "    }\n",
       "\n",
       "    .dataframe tbody tr th {\n",
       "        vertical-align: top;\n",
       "    }\n",
       "\n",
       "    .dataframe thead th {\n",
       "        text-align: right;\n",
       "    }\n",
       "</style>\n",
       "<table border=\"1\" class=\"dataframe\">\n",
       "  <thead>\n",
       "    <tr style=\"text-align: right;\">\n",
       "      <th></th>\n",
       "      <th>Dates</th>\n",
       "      <th>Category</th>\n",
       "      <th>Descript</th>\n",
       "      <th>DayOfWeek</th>\n",
       "      <th>PdDistrict</th>\n",
       "      <th>Resolution</th>\n",
       "      <th>Address</th>\n",
       "      <th>X</th>\n",
       "      <th>Y</th>\n",
       "      <th>Id</th>\n",
       "      <th>Hour</th>\n",
       "      <th>Minutes</th>\n",
       "      <th>Year</th>\n",
       "      <th>Month</th>\n",
       "      <th>Day</th>\n",
       "      <th>DayOfWeekNum</th>\n",
       "    </tr>\n",
       "  </thead>\n",
       "  <tbody>\n",
       "    <tr>\n",
       "      <th>0</th>\n",
       "      <td>2013-06-28 17:40:00</td>\n",
       "      <td>SEX OFFENSES FORCIBLE</td>\n",
       "      <td>FORCIBLE RAPE, BODILY FORCE</td>\n",
       "      <td>Friday</td>\n",
       "      <td>MISSION</td>\n",
       "      <td>NONE</td>\n",
       "      <td>2100 Block of MISSION ST</td>\n",
       "      <td>-122.419331</td>\n",
       "      <td>37.762264</td>\n",
       "      <td>141546</td>\n",
       "      <td>17</td>\n",
       "      <td>40</td>\n",
       "      <td>2013</td>\n",
       "      <td>6</td>\n",
       "      <td>28</td>\n",
       "      <td>5</td>\n",
       "    </tr>\n",
       "    <tr>\n",
       "      <th>1</th>\n",
       "      <td>2004-02-19 02:46:00</td>\n",
       "      <td>LIQUOR LAWS</td>\n",
       "      <td>CONSUMING ALCOHOL IN PUBLIC VIEW</td>\n",
       "      <td>Thursday</td>\n",
       "      <td>SOUTHERN</td>\n",
       "      <td>ARREST, BOOKED</td>\n",
       "      <td>1000 Block of MARKET ST</td>\n",
       "      <td>-122.411340</td>\n",
       "      <td>37.781271</td>\n",
       "      <td>794152</td>\n",
       "      <td>2</td>\n",
       "      <td>46</td>\n",
       "      <td>2004</td>\n",
       "      <td>2</td>\n",
       "      <td>19</td>\n",
       "      <td>4</td>\n",
       "    </tr>\n",
       "    <tr>\n",
       "      <th>2</th>\n",
       "      <td>2007-11-14 00:01:00</td>\n",
       "      <td>FRAUD</td>\n",
       "      <td>CREDIT CARD, THEFT BY USE OF</td>\n",
       "      <td>Wednesday</td>\n",
       "      <td>SOUTHERN</td>\n",
       "      <td>NONE</td>\n",
       "      <td>800 Block of BRYANT ST</td>\n",
       "      <td>-122.403405</td>\n",
       "      <td>37.775421</td>\n",
       "      <td>531205</td>\n",
       "      <td>0</td>\n",
       "      <td>1</td>\n",
       "      <td>2007</td>\n",
       "      <td>11</td>\n",
       "      <td>14</td>\n",
       "      <td>3</td>\n",
       "    </tr>\n",
       "    <tr>\n",
       "      <th>3</th>\n",
       "      <td>2007-12-27 18:30:00</td>\n",
       "      <td>ROBBERY</td>\n",
       "      <td>ROBBERY OF A CHAIN STORE WITH A GUN</td>\n",
       "      <td>Thursday</td>\n",
       "      <td>BAYVIEW</td>\n",
       "      <td>DISTRICT ATTORNEY REFUSES TO PROSECUTE</td>\n",
       "      <td>2400 Block of SAN BRUNO AV</td>\n",
       "      <td>-122.404715</td>\n",
       "      <td>37.730161</td>\n",
       "      <td>523137</td>\n",
       "      <td>18</td>\n",
       "      <td>30</td>\n",
       "      <td>2007</td>\n",
       "      <td>12</td>\n",
       "      <td>27</td>\n",
       "      <td>4</td>\n",
       "    </tr>\n",
       "    <tr>\n",
       "      <th>4</th>\n",
       "      <td>2012-09-09 17:02:00</td>\n",
       "      <td>OTHER OFFENSES</td>\n",
       "      <td>PROBATION VIOLATION</td>\n",
       "      <td>Sunday</td>\n",
       "      <td>SOUTHERN</td>\n",
       "      <td>ARREST, BOOKED</td>\n",
       "      <td>4TH ST / STEVENSON ST</td>\n",
       "      <td>-122.405239</td>\n",
       "      <td>37.785265</td>\n",
       "      <td>200968</td>\n",
       "      <td>17</td>\n",
       "      <td>2</td>\n",
       "      <td>2012</td>\n",
       "      <td>9</td>\n",
       "      <td>9</td>\n",
       "      <td>7</td>\n",
       "    </tr>\n",
       "  </tbody>\n",
       "</table>\n",
       "</div>"
      ],
      "text/plain": [
       "                Dates               Category  \\\n",
       "0 2013-06-28 17:40:00  SEX OFFENSES FORCIBLE   \n",
       "1 2004-02-19 02:46:00            LIQUOR LAWS   \n",
       "2 2007-11-14 00:01:00                  FRAUD   \n",
       "3 2007-12-27 18:30:00                ROBBERY   \n",
       "4 2012-09-09 17:02:00         OTHER OFFENSES   \n",
       "\n",
       "                              Descript  DayOfWeek PdDistrict  \\\n",
       "0          FORCIBLE RAPE, BODILY FORCE     Friday    MISSION   \n",
       "1     CONSUMING ALCOHOL IN PUBLIC VIEW   Thursday   SOUTHERN   \n",
       "2         CREDIT CARD, THEFT BY USE OF  Wednesday   SOUTHERN   \n",
       "3  ROBBERY OF A CHAIN STORE WITH A GUN   Thursday    BAYVIEW   \n",
       "4                  PROBATION VIOLATION     Sunday   SOUTHERN   \n",
       "\n",
       "                               Resolution                     Address  \\\n",
       "0                                    NONE    2100 Block of MISSION ST   \n",
       "1                          ARREST, BOOKED     1000 Block of MARKET ST   \n",
       "2                                    NONE      800 Block of BRYANT ST   \n",
       "3  DISTRICT ATTORNEY REFUSES TO PROSECUTE  2400 Block of SAN BRUNO AV   \n",
       "4                          ARREST, BOOKED       4TH ST / STEVENSON ST   \n",
       "\n",
       "            X          Y      Id  Hour  Minutes  Year  Month  Day  \\\n",
       "0 -122.419331  37.762264  141546    17       40  2013      6   28   \n",
       "1 -122.411340  37.781271  794152     2       46  2004      2   19   \n",
       "2 -122.403405  37.775421  531205     0        1  2007     11   14   \n",
       "3 -122.404715  37.730161  523137    18       30  2007     12   27   \n",
       "4 -122.405239  37.785265  200968    17        2  2012      9    9   \n",
       "\n",
       "   DayOfWeekNum  \n",
       "0             5  \n",
       "1             4  \n",
       "2             3  \n",
       "3             4  \n",
       "4             7  "
      ]
     },
     "execution_count": 6,
     "metadata": {},
     "output_type": "execute_result"
    }
   ],
   "source": [
    "data.head()"
   ]
  },
  {
   "cell_type": "code",
   "execution_count": 7,
   "metadata": {},
   "outputs": [],
   "source": [
    "def newMin(i):\n",
    "    if(i<15):\n",
    "        return 0\n",
    "        \n",
    "    elif(i>=15 and i<30):\n",
    "        return 15\n",
    "\n",
    "    elif(i>=30 and i<45):\n",
    "        return 30\n",
    "    \n",
    "    elif(i>=45):\n",
    "        return 45\n",
    "\n",
    "data['newMin'] = data.Minutes.apply(lambda a:newMin(a))\n",
    "test['newMin'] = test.Minutes.apply(lambda a:newMin(a))"
   ]
  },
  {
   "cell_type": "code",
   "execution_count": 8,
   "metadata": {},
   "outputs": [],
   "source": [
    "# https://www.studentflights.com.au/destinations/san-francisco/weather\n",
    "def season(i):\n",
    "    if i in [2, 3]:\n",
    "        return 1\n",
    "    if i in [4,5]:\n",
    "        return 2\n",
    "    if i in [6,7]:\n",
    "        return 3\n",
    "    if i in [8,9]:\n",
    "        return 4\n",
    "    if i in [10,11]:\n",
    "        return 5\n",
    "    if i in [12,1]:\n",
    "        return 6\n",
    "    \n",
    "    \n",
    "data['seasons'] = data.Month.apply(lambda a:season(a))\n",
    "test['seasons'] = test.Month.apply(lambda a:season(a))"
   ]
  },
  {
   "cell_type": "code",
   "execution_count": 9,
   "metadata": {},
   "outputs": [
    {
     "data": {
      "text/plain": [
       "2    155948\n",
       "5    151471\n",
       "1    145447\n",
       "3    139225\n",
       "4    138860\n",
       "6    136922\n",
       "Name: seasons, dtype: int64"
      ]
     },
     "execution_count": 9,
     "metadata": {},
     "output_type": "execute_result"
    }
   ],
   "source": [
    "data.seasons.value_counts()"
   ]
  },
  {
   "cell_type": "code",
   "execution_count": 10,
   "metadata": {},
   "outputs": [],
   "source": [
    "labelencoder = LabelEncoder()"
   ]
  },
  {
   "cell_type": "code",
   "execution_count": 11,
   "metadata": {},
   "outputs": [],
   "source": [
    "data['ResolutionNum'] = labelencoder.fit_transform(data['Resolution'])\n",
    "data['PdDistrictNum'] = labelencoder.fit_transform(data['PdDistrict'])\n",
    "data['CategoryNum'] = labelencoder.fit_transform(data['Category'])\n",
    "\n",
    "test['ResolutionNum'] = labelencoder.fit_transform(test['Resolution'])\n",
    "test['PdDistrictNum'] = labelencoder.fit_transform(test['PdDistrict'])"
   ]
  },
  {
   "cell_type": "code",
   "execution_count": 12,
   "metadata": {},
   "outputs": [],
   "source": [
    "data = data[data.X < -121]\n",
    "data = data[data.Y < 40]\n",
    "\n",
    "test = test[test.X < -121]\n",
    "test = test[test.Y < 40]"
   ]
  },
  {
   "cell_type": "code",
   "execution_count": 13,
   "metadata": {},
   "outputs": [],
   "source": [
    "def getCapsAddress(i):\n",
    "    s=''\n",
    "    for j in i.split():\n",
    "        if(j.isupper()):\n",
    "            s=s+' '+j\n",
    "    return s[1:]\n",
    "\n",
    "data['newAddress'] = data.Address.apply(lambda a:getCapsAddress(a))\n",
    "test['newAddress'] = test.Address.apply(lambda a:getCapsAddress(a))"
   ]
  },
  {
   "cell_type": "code",
   "execution_count": 14,
   "metadata": {},
   "outputs": [],
   "source": [
    "data['newAddressNum'] = labelencoder.fit_transform(data.newAddress)\n",
    "test['newAddressNum'] = labelencoder.fit_transform(test.newAddress)"
   ]
  },
  {
   "cell_type": "code",
   "execution_count": 15,
   "metadata": {},
   "outputs": [
    {
     "name": "stdout",
     "output_type": "stream",
     "text": [
      "Index(['800 Block of BRYANT ST', '800 Block of MARKET ST',\n",
      "       '2000 Block of MISSION ST', '1000 Block of POTRERO AV',\n",
      "       '900 Block of MARKET ST', '0 Block of TURK ST', '0 Block of 6TH ST',\n",
      "       '300 Block of ELLIS ST', '400 Block of ELLIS ST',\n",
      "       '16TH ST / MISSION ST',\n",
      "       ...\n",
      "       '800 Block of MISSOURI ST', '500 Block of JACKSON ST',\n",
      "       'CAPP ST / 19TH ST', '1000 Block of GRANT AV',\n",
      "       '700 Block of GONZALEZ DR', 'MARKET ST / HYDE ST',\n",
      "       '14TH ST / FOLSOM ST', '900 Block of GRANT AV', '700 Block of OAK ST',\n",
      "       '300 Block of 8TH ST'],\n",
      "      dtype='object', length=1616)\n",
      "(867806, 25)\n",
      "475\n"
     ]
    }
   ],
   "source": [
    "data['Address_CrossRoad'] = data['Address'].str.contains('/')\n",
    "test['Address_CrossRoad'] = test['Address'].str.contains('/')\n",
    "\n",
    "topN_address_list = data['Address'].value_counts()\n",
    "topN_address_list = topN_address_list[topN_address_list >=100]\n",
    "topN_address_list = topN_address_list.index\n",
    "print(topN_address_list)\n",
    "\n",
    "data['Address_clean'] = data['Address']\n",
    "test['Address_clean'] = test['Address']\n",
    "data.loc[~data['Address'].isin(topN_address_list), 'Address_clean'] = 'Others'\n",
    "test.loc[~test['Address'].isin(topN_address_list), 'Address_clean'] = 'Others'\n",
    "print(data.shape)\n",
    "\n",
    "crossload = data[data['Address_clean'].str.contains('/')]\n",
    "crossroad_list = crossload['Address_clean'].unique()\n",
    "print(len(crossroad_list))"
   ]
  },
  {
   "cell_type": "code",
   "execution_count": 16,
   "metadata": {},
   "outputs": [
    {
     "name": "stdout",
     "output_type": "stream",
     "text": [
      "321\n",
      "(867806, 26)\n"
     ]
    }
   ],
   "source": [
    "for address in crossroad_list:\n",
    "    address_split = address.split('/')\n",
    "    reverse_address = address_split[1].strip() + ' / ' + address_split[0].strip()\n",
    "    data.loc[data['Address_clean'] == reverse_address, 'Address_clean'] = address\n",
    "    test.loc[test['Address_clean'] == reverse_address, 'Address_clean'] = address\n",
    "crossload = data[data['Address_clean'].str.contains('/')]\n",
    "crossroad_list = crossload['Address_clean'].unique()\n",
    "print(len(crossroad_list))\n",
    "\n",
    "le = LabelEncoder()\n",
    "data['Address_clean_encode'] = le.fit_transform(data['Address_clean'])\n",
    "print(data.shape)"
   ]
  },
  {
   "cell_type": "code",
   "execution_count": 17,
   "metadata": {},
   "outputs": [],
   "source": [
    "le = LabelEncoder()\n",
    "test['Address_clean_encode'] = le.fit_transform(test['Address_clean'])"
   ]
  },
  {
   "cell_type": "code",
   "execution_count": 18,
   "metadata": {},
   "outputs": [],
   "source": [
    "def is_weekend(day):\n",
    "    if day in ['Friday', 'Saturday', 'Sunday']:\n",
    "        return True\n",
    "    else:\n",
    "        return False\n",
    "    \n",
    "data['is_weekend'] = data.DayOfWeek.apply(lambda x : is_weekend(x))\n",
    "test['is_weekend'] = test.DayOfWeek.apply(lambda x : is_weekend(x))"
   ]
  },
  {
   "cell_type": "code",
   "execution_count": 19,
   "metadata": {},
   "outputs": [],
   "source": [
    "def night_time(time):\n",
    "    if time >= 22 or time <= 6:\n",
    "        return True\n",
    "    else:\n",
    "        return False\n",
    "\n",
    "data['is_night_time'] = data.Hour.apply(lambda x : night_time(x))\n",
    "test['is_night_time'] = test.Hour.apply(lambda x : night_time(x))"
   ]
  },
  {
   "cell_type": "code",
   "execution_count": 20,
   "metadata": {},
   "outputs": [],
   "source": [
    "import holidays\n",
    "us_holidays = holidays.US()\n",
    "def is_holiday(date):\n",
    "    if date in us_holidays:\n",
    "        return True\n",
    "    else:\n",
    "        return False\n",
    "\n",
    "data['is_holiday'] = data.Dates.dt.date.apply(lambda x: is_holiday(x))\n",
    "test['is_holiday'] = test.Dates.dt.date.apply(lambda x: is_holiday(x))"
   ]
  },
  {
   "cell_type": "code",
   "execution_count": 21,
   "metadata": {},
   "outputs": [],
   "source": [
    "def get_address_char(address):\n",
    "    strings = address.strip().split('/')\n",
    "    if(len(strings) == 1):\n",
    "        return [strings[0].strip()[-2:].strip()]\n",
    "    else:\n",
    "        return [strings[0].strip()[-2:].strip(), strings[1][-2:].strip()]"
   ]
  },
  {
   "cell_type": "code",
   "execution_count": 22,
   "metadata": {},
   "outputs": [],
   "source": [
    "def get_tags(all_address):\n",
    "    all_tags = []\n",
    "    for address in all_address:\n",
    "        tags = get_address_char(address)\n",
    "        for tag in tags:\n",
    "            if(len(tag) != 0 and tag.isdigit() == False):\n",
    "                all_tags.append(tag)\n",
    "    return list(set(all_tags))"
   ]
  },
  {
   "cell_type": "code",
   "execution_count": 23,
   "metadata": {},
   "outputs": [],
   "source": [
    "all_tags = get_tags(data.Address)"
   ]
  },
  {
   "cell_type": "code",
   "execution_count": 24,
   "metadata": {},
   "outputs": [],
   "source": [
    "data['tags'] = data.Address.apply(lambda x: get_address_char(x))\n",
    "test['tags'] = test.Address.apply(lambda x: get_address_char(x))"
   ]
  },
  {
   "cell_type": "code",
   "execution_count": 25,
   "metadata": {},
   "outputs": [],
   "source": [
    "def makeDict(col):\n",
    "    col = col[0]\n",
    "    all_dict = {}\n",
    "    for i in all_tags:\n",
    "        all_dict[i]=0\n",
    "    for i in col:\n",
    "        all_dict[i]=1\n",
    "    return all_dict"
   ]
  },
  {
   "cell_type": "code",
   "execution_count": 26,
   "metadata": {},
   "outputs": [],
   "source": [
    "all_dicts_data = data[['tags']].apply(makeDict,axis=1)\n",
    "all_dicts_test = test[['tags']].apply(makeDict,axis=1)"
   ]
  },
  {
   "cell_type": "code",
   "execution_count": 27,
   "metadata": {},
   "outputs": [],
   "source": [
    "data_dicts_pd = pd.DataFrame(list(all_dicts_data),index=data.index)\n",
    "test_dicts_pd = pd.DataFrame(list(all_dicts_test),index=test.index)"
   ]
  },
  {
   "cell_type": "code",
   "execution_count": 28,
   "metadata": {},
   "outputs": [],
   "source": [
    "# data_dicts_pd.drop(columns=['','80'],inplace=True)"
   ]
  },
  {
   "cell_type": "code",
   "execution_count": 29,
   "metadata": {},
   "outputs": [],
   "source": [
    "data = pd.concat([data,data_dicts_pd],axis=1)\n",
    "test = pd.concat([test,test_dicts_pd],axis=1)"
   ]
  },
  {
   "cell_type": "code",
   "execution_count": 30,
   "metadata": {},
   "outputs": [
    {
     "name": "stdout",
     "output_type": "stream",
     "text": [
      "CategoryNum             1.000000\n",
      "Address_clean_encode    0.070796\n",
      "Address_CrossRoad       0.069896\n",
      "AV                      0.041185\n",
      "ResolutionNum           0.039676\n",
      "Hour                    0.023701\n",
      "Id                      0.016881\n",
      "WY                      0.013034\n",
      "is_night_time           0.011986\n",
      "BL                      0.006744\n",
      "TR                      0.006426\n",
      "RD                      0.003983\n",
      "CR                      0.003544\n",
      "NO                      0.002595\n",
      "DR                      0.002450\n",
      "RW                      0.002233\n",
      "MS                      0.001754\n",
      "HY                      0.001571\n",
      "AR                      0.001330\n",
      "RK                      0.001163\n",
      "LN                      0.000733\n",
      "AY                      0.000666\n",
      "DayOfWeekNum            0.000537\n",
      "CT                      0.000534\n",
      "is_holiday              0.000504\n",
      "EX                      0.000372\n",
      "Day                     0.000354\n",
      "is_weekend              0.000065\n",
      "seasons                -0.000069\n",
      "ER                     -0.000258\n",
      "Month                  -0.000360\n",
      "WK                     -0.001246\n",
      "AL                     -0.001837\n",
      "TI                     -0.002625\n",
      "PL                     -0.003403\n",
      "PZ                     -0.004963\n",
      "ST                     -0.014129\n",
      "Year                   -0.016795\n",
      "newAddressNum          -0.019639\n",
      "newMin                 -0.020077\n",
      "Minutes                -0.021945\n",
      "X                      -0.030525\n",
      "PdDistrictNum          -0.039477\n",
      "Y                      -0.058963\n",
      "                             NaN\n",
      "80                           NaN\n",
      "Name: CategoryNum, dtype: float64\n"
     ]
    }
   ],
   "source": [
    "corr = data.corr()\n",
    "print(corr['CategoryNum'].sort_values(ascending=False))"
   ]
  },
  {
   "cell_type": "code",
   "execution_count": 85,
   "metadata": {},
   "outputs": [],
   "source": [
    "xyscaler = StandardScaler()\n",
    "xyscaler.fit(data[[\"X\",\"Y\"]])\n",
    "data[[\"X\",\"Y\"]] = xyscaler.transform(data[[\"X\",\"Y\"]])\n",
    "\n",
    "# data[\"X_reduced\"] = data.X.apply(lambda x: \"{0:.2f}\".format(x)).astype(float)\n",
    "# data[\"Y_reduced\"] = data.Y.apply(lambda x: \"{0:.2f}\".format(x)).astype(float)\n",
    "# data[\"X_reduced_cat\"] = pd.Categorical.from_array(data.X_reduced).codes\n",
    "# data[\"Y_reduced_cat\"] = pd.Categorical.from_array(data.Y_reduced).codes\n",
    "\n",
    "data[\"rot_45_X\"] = .707*data[\"Y\"] + .707*data[\"X\"]\n",
    "data[\"rot_45_Y\"] = .707* data[\"Y\"] - .707* data[\"X\"]\n",
    "\n",
    "data[\"rot_30_X\"] = (1.732/2)*data[\"X\"] + (1./2)*data[\"Y\"]\n",
    "data[\"rot_30_Y\"] = (1.732/2)* data[\"Y\"] - (1./2)* data[\"X\"]\n",
    "\n",
    "data[\"rot_60_X\"] = (1./2)*data[\"X\"] + (1.732/2)*data[\"Y\"]\n",
    "data[\"rot_60_Y\"] = (1./2)* data[\"Y\"] - (1.732/2)* data[\"X\"]\n",
    "\n",
    "data[\"radial_r\"] = np.sqrt( np.power(data[\"Y\"],2) + np.power(data[\"X\"],2) )\n",
    "data['XY'] = data.X * data.Y"
   ]
  },
  {
   "cell_type": "code",
   "execution_count": 213,
   "metadata": {},
   "outputs": [],
   "source": [
    "xyscaler = StandardScaler()\n",
    "xyscaler.fit(test[[\"X\",\"Y\"]])\n",
    "test[[\"X\",\"Y\"]] = xyscaler.transform(test[[\"X\",\"Y\"]])\n",
    "\n",
    "# test[\"X_reduced\"] = test.X.apply(lambda x: \"{0:.2f}\".format(x)).astype(float)\n",
    "# test[\"Y_reduced\"] = test.Y.apply(lambda x: \"{0:.2f}\".format(x)).astype(float)\n",
    "# test[\"X_reduced_cat\"] = pd.Categorical.from_array(test.X_reduced).codes\n",
    "# test[\"Y_reduced_cat\"] = pd.Categorical.from_array(test.Y_reduced).codes\n",
    "\n",
    "test[\"rot_45_X\"] = .707*test[\"Y\"] + .707*test[\"X\"]\n",
    "test[\"rot_45_Y\"] = .707* test[\"Y\"] - .707* test[\"X\"]\n",
    "\n",
    "test[\"rot_30_X\"] = (1.732/2)*test[\"X\"] + (1./2)*test[\"Y\"]\n",
    "test[\"rot_30_Y\"] = (1.732/2)* test[\"Y\"] - (1./2)* test[\"X\"]\n",
    "\n",
    "test[\"rot_60_X\"] = (1./2)*test[\"X\"] + (1.732/2)*test[\"Y\"]\n",
    "test[\"rot_60_Y\"] = (1./2)* test[\"Y\"] - (1.732/2)* test[\"X\"]\n",
    "\n",
    "test[\"radial_r\"] = np.sqrt( np.power(test[\"Y\"],2) + np.power(test[\"X\"],2) )\n",
    "test['XY'] = test.X * test.Y"
   ]
  },
  {
   "cell_type": "code",
   "execution_count": 86,
   "metadata": {},
   "outputs": [
    {
     "data": {
      "text/html": [
       "<div>\n",
       "<style scoped>\n",
       "    .dataframe tbody tr th:only-of-type {\n",
       "        vertical-align: middle;\n",
       "    }\n",
       "\n",
       "    .dataframe tbody tr th {\n",
       "        vertical-align: top;\n",
       "    }\n",
       "\n",
       "    .dataframe thead th {\n",
       "        text-align: right;\n",
       "    }\n",
       "</style>\n",
       "<table border=\"1\" class=\"dataframe\">\n",
       "  <thead>\n",
       "    <tr style=\"text-align: right;\">\n",
       "      <th></th>\n",
       "      <th>X</th>\n",
       "      <th>Y</th>\n",
       "      <th>rot_45_X</th>\n",
       "      <th>rot_45_Y</th>\n",
       "      <th>rot_30_X</th>\n",
       "      <th>rot_30_Y</th>\n",
       "      <th>rot_60_X</th>\n",
       "      <th>rot_60_Y</th>\n",
       "      <th>radial_r</th>\n",
       "      <th>XY</th>\n",
       "    </tr>\n",
       "  </thead>\n",
       "  <tbody>\n",
       "    <tr>\n",
       "      <th>0</th>\n",
       "      <td>0.135687</td>\n",
       "      <td>-0.197559</td>\n",
       "      <td>-0.043743</td>\n",
       "      <td>-0.235605</td>\n",
       "      <td>0.018725</td>\n",
       "      <td>-0.238929</td>\n",
       "      <td>-0.103243</td>\n",
       "      <td>-0.216284</td>\n",
       "      <td>0.239667</td>\n",
       "      <td>-0.026806</td>\n",
       "    </tr>\n",
       "    <tr>\n",
       "      <th>1</th>\n",
       "      <td>0.451779</td>\n",
       "      <td>0.588986</td>\n",
       "      <td>0.735820</td>\n",
       "      <td>0.097005</td>\n",
       "      <td>0.685733</td>\n",
       "      <td>0.284172</td>\n",
       "      <td>0.735951</td>\n",
       "      <td>-0.096747</td>\n",
       "      <td>0.742299</td>\n",
       "      <td>0.266091</td>\n",
       "    </tr>\n",
       "    <tr>\n",
       "      <th>2</th>\n",
       "      <td>0.765623</td>\n",
       "      <td>0.346893</td>\n",
       "      <td>0.786549</td>\n",
       "      <td>-0.296042</td>\n",
       "      <td>0.836476</td>\n",
       "      <td>-0.082402</td>\n",
       "      <td>0.683221</td>\n",
       "      <td>-0.489583</td>\n",
       "      <td>0.840543</td>\n",
       "      <td>0.265589</td>\n",
       "    </tr>\n",
       "    <tr>\n",
       "      <th>3</th>\n",
       "      <td>0.713787</td>\n",
       "      <td>-1.526104</td>\n",
       "      <td>-0.574308</td>\n",
       "      <td>-1.583603</td>\n",
       "      <td>-0.144913</td>\n",
       "      <td>-1.678500</td>\n",
       "      <td>-0.964713</td>\n",
       "      <td>-1.381191</td>\n",
       "      <td>1.684781</td>\n",
       "      <td>-1.089313</td>\n",
       "    </tr>\n",
       "    <tr>\n",
       "      <th>4</th>\n",
       "      <td>0.693086</td>\n",
       "      <td>0.754293</td>\n",
       "      <td>1.023297</td>\n",
       "      <td>0.043273</td>\n",
       "      <td>0.977359</td>\n",
       "      <td>0.306675</td>\n",
       "      <td>0.999761</td>\n",
       "      <td>-0.223066</td>\n",
       "      <td>1.024366</td>\n",
       "      <td>0.522790</td>\n",
       "    </tr>\n",
       "  </tbody>\n",
       "</table>\n",
       "</div>"
      ],
      "text/plain": [
       "          X         Y  rot_45_X  rot_45_Y  rot_30_X  rot_30_Y  rot_60_X  \\\n",
       "0  0.135687 -0.197559 -0.043743 -0.235605  0.018725 -0.238929 -0.103243   \n",
       "1  0.451779  0.588986  0.735820  0.097005  0.685733  0.284172  0.735951   \n",
       "2  0.765623  0.346893  0.786549 -0.296042  0.836476 -0.082402  0.683221   \n",
       "3  0.713787 -1.526104 -0.574308 -1.583603 -0.144913 -1.678500 -0.964713   \n",
       "4  0.693086  0.754293  1.023297  0.043273  0.977359  0.306675  0.999761   \n",
       "\n",
       "   rot_60_Y  radial_r        XY  \n",
       "0 -0.216284  0.239667 -0.026806  \n",
       "1 -0.096747  0.742299  0.266091  \n",
       "2 -0.489583  0.840543  0.265589  \n",
       "3 -1.381191  1.684781 -1.089313  \n",
       "4 -0.223066  1.024366  0.522790  "
      ]
     },
     "execution_count": 86,
     "metadata": {},
     "output_type": "execute_result"
    }
   ],
   "source": [
    "data.loc[:,['X','Y','rot_45_X','rot_45_Y','rot_30_X','rot_30_Y','rot_60_X','rot_60_Y','radial_r','XY']].head()"
   ]
  },
  {
   "cell_type": "code",
   "execution_count": 33,
   "metadata": {},
   "outputs": [],
   "source": [
    "data.is_holiday.replace(False, 0, inplace=True)\n",
    "data.is_holiday.replace(True, 1, inplace=True)"
   ]
  },
  {
   "cell_type": "code",
   "execution_count": 61,
   "metadata": {},
   "outputs": [],
   "source": [
    "def street_addr(x):\n",
    "    street=x.split(' ')\n",
    "    return (''.join(street[-1]))\n",
    "\n",
    "data['Address_Type'] = data['Address'].apply(lambda x:street_addr(x))\n",
    "test['Address_Type'] = test['Address'].apply(lambda x:street_addr(x))\n",
    "\n",
    "for x in [data,test]:\n",
    "    x['is_street'] = (x['Address_Type'] == 'ST')\n",
    "    x['is_avenue'] = (x['Address_Type'] == 'AV')\n",
    "\n",
    "data['is_street'] = data['is_street'].apply(lambda x:int(x))\n",
    "data['is_avenue'] = data['is_avenue'].apply(lambda x:int(x))\n",
    "\n",
    "test['is_avenue'] = test['is_avenue'].apply(lambda x:int(x))\n",
    "test['is_street'] = test['is_street'].apply(lambda x:int(x))"
   ]
  },
  {
   "cell_type": "code",
   "execution_count": 64,
   "metadata": {},
   "outputs": [],
   "source": [
    "def is_block(x):\n",
    "    if 'Block' in x:\n",
    "        return 1\n",
    "    else:\n",
    "        return 0\n",
    "\n",
    "data['is_block'] = data['Address'].apply(lambda x:is_block(x)) \n",
    "test['is_block'] = test['Address'].apply(lambda x:is_block(x))"
   ]
  },
  {
   "cell_type": "code",
   "execution_count": 216,
   "metadata": {},
   "outputs": [
    {
     "data": {
      "text/plain": [
       "Index(['Dates', 'Category', 'Descript', 'DayOfWeek', 'PdDistrict',\n",
       "       'Resolution', 'Address', 'X', 'Y', 'Id', 'Hour', 'Minutes', 'Year',\n",
       "       'Month', 'Day', 'DayOfWeekNum', 'newMin', 'seasons', 'ResolutionNum',\n",
       "       'PdDistrictNum', 'CategoryNum', 'newAddress', 'newAddressNum',\n",
       "       'Address_CrossRoad', 'Address_clean', 'Address_clean_encode',\n",
       "       'is_weekend', 'is_night_time', 'is_holiday', 'tags', '', '80', 'AL',\n",
       "       'AR', 'AV', 'AY', 'BL', 'CR', 'CT', 'DR', 'ER', 'EX', 'HY', 'LN', 'MS',\n",
       "       'NO', 'PL', 'PZ', 'RD', 'RK', 'RW', 'ST', 'TI', 'TR', 'WK', 'WY',\n",
       "       'X_reduced', 'Y_reduced', 'rot_45_X', 'rot_45_Y', 'rot_30_X',\n",
       "       'rot_30_Y', 'rot_60_X', 'rot_60_Y', 'radial_r', 'Address_Type',\n",
       "       'is_street', 'is_avenue', 'is_block', 'XY'],\n",
       "      dtype='object')"
      ]
     },
     "execution_count": 216,
     "metadata": {},
     "output_type": "execute_result"
    }
   ],
   "source": [
    "data.columns"
   ]
  },
  {
   "cell_type": "code",
   "execution_count": 159,
   "metadata": {},
   "outputs": [],
   "source": [
    "features=['X','Y','Hour','Minutes','Year','Month','Day','DayOfWeekNum', 'PdDistrictNum',\n",
    "          'Address_CrossRoad', 'Address_clean_encode'] + ['rot_45_X','rot_45_Y','rot_30_X','rot_30_Y','rot_60_X','rot_60_Y','radial_r','XY']"
   ]
  },
  {
   "cell_type": "code",
   "execution_count": 160,
   "metadata": {},
   "outputs": [],
   "source": [
    "# for i in data.CategoryNum.unique():\n",
    "#     print(i,labelencoder.inverse_transform(data.CategoryNum.unique())[i])\n",
    "#     data[data.CategoryNum==i].hist(bins=50, figsize=(20,15))\n",
    "#     plt.show()\n",
    "\n",
    "# data.hist(bins=50, figsize=(20,15))\n",
    "# plt.show()"
   ]
  },
  {
   "cell_type": "code",
   "execution_count": 161,
   "metadata": {},
   "outputs": [],
   "source": [
    "# Random seed has been set - As per the guidlines of the competition\n",
    "train_, test_ = train_test_split(data, test_size=0.3, random_state=3, shuffle=True)"
   ]
  },
  {
   "cell_type": "code",
   "execution_count": 162,
   "metadata": {},
   "outputs": [],
   "source": [
    "ytrain_ = train_['CategoryNum']\n",
    "Xtrain_ = train_[features]\n",
    "ytest_ = test_['CategoryNum']\n",
    "Xtest_ = test_[features]"
   ]
  },
  {
   "cell_type": "code",
   "execution_count": 214,
   "metadata": {},
   "outputs": [],
   "source": [
    "y_train = data['CategoryNum']\n",
    "X_train = data[features]\n",
    "# y_test = test['CategoryNum']\n",
    "X_test = test[features]"
   ]
  },
  {
   "cell_type": "code",
   "execution_count": 117,
   "metadata": {},
   "outputs": [],
   "source": [
    "from sklearn.linear_model import LogisticRegression\n",
    "model = LogisticRegression(\n",
    "    random_state=42, \n",
    "    solver='sag', \n",
    "    multi_class='multinomial',\n",
    "    max_iter=100,\n",
    "    n_jobs=-1\n",
    ")\n",
    "# clf.fit(X_train,y_train)\n",
    "# pred = clf.predict_proba(X_test)\n",
    "# log_loss(y_test,pred)"
   ]
  },
  {
   "cell_type": "code",
   "execution_count": null,
   "metadata": {},
   "outputs": [],
   "source": [
    "from sklearn.naive_bayes import MultinomialNB\n",
    "model = MultinomialNB()\n",
    "# clf.fit(Xtrain_,ytrain_)\n",
    "# print(clf.score(Xtest_,ytest_))\n",
    "# pred = clf.predict_proba(Xtest_)\n",
    "# print(log_loss(ytest_,pred))"
   ]
  },
  {
   "cell_type": "code",
   "execution_count": null,
   "metadata": {},
   "outputs": [],
   "source": [
    "from sklearn.tree import DecisionTreeClassifier\n",
    "\n",
    "max_depth = 8\n",
    "\n",
    "model = DecisionTreeClassifier(\n",
    "    max_depth=max_depth\n",
    ")"
   ]
  },
  {
   "cell_type": "code",
   "execution_count": null,
   "metadata": {},
   "outputs": [],
   "source": [
    "importances = dt_model.feature_importances_\n",
    "indices = np.argsort(importances)"
   ]
  },
  {
   "cell_type": "code",
   "execution_count": null,
   "metadata": {},
   "outputs": [],
   "source": [
    "plt.title('Feature Importances')\n",
    "plt.barh(range(len(indices)), importances[indices], color='b', align='center')\n",
    "plt.yticks(range(len(indices)), [features[i] for i in indices])\n",
    "plt.xlabel('Relative Importance')\n",
    "plt.show()"
   ]
  },
  {
   "cell_type": "code",
   "execution_count": 204,
   "metadata": {},
   "outputs": [],
   "source": [
    "from sklearn.ensemble import RandomForestClassifier\n",
    "\n",
    "random_state = 42\n",
    "max_depth = 16\n",
    "min_weight_fraction_leaf = 0.02\n",
    "n_estimators = 100\n",
    "n_jobs = -1\n",
    "\n",
    "model = RandomForestClassifier(\n",
    "    random_state=random_state,\n",
    "    max_depth=max_depth,\n",
    "    n_estimators=n_estimators,\n",
    "    n_jobs=n_jobs,\n",
    "#     min_weight_fraction_leaf=min_weight_fraction_leaf\n",
    ")\n",
    "\n",
    "# model.fit(Xtrain_,ytrain_)\n",
    "# print(model.score(Xtest_,ytest_))\n",
    "# pred = model.predict_proba(Xtest_)\n",
    "# print(log_loss(ytest_,pred))"
   ]
  },
  {
   "cell_type": "code",
   "execution_count": 188,
   "metadata": {},
   "outputs": [],
   "source": [
    "import xgboost as xgb\n",
    "\n",
    "seed = 42\n",
    "max_depth = 8\n",
    "learning_rate = 0.2\n",
    "min_child_weight = 1\n",
    "n_estimators = 100\n",
    "\n",
    "model = xgb.XGBClassifier(\n",
    "    objective='multi:softprob', \n",
    "    seed=seed, \n",
    "    max_depth=max_depth,\n",
    "    nthread=0,\n",
    "    n_jobs=-1,\n",
    "#     min_child_weight=min_child_weight,\n",
    "#     learning_rate=learning_rate,\n",
    "    n_estimators = n_estimators\n",
    ")"
   ]
  },
  {
   "cell_type": "code",
   "execution_count": 205,
   "metadata": {},
   "outputs": [
    {
     "data": {
      "text/plain": [
       "RandomForestClassifier(bootstrap=True, class_weight=None, criterion='gini',\n",
       "            max_depth=16, max_features='auto', max_leaf_nodes=None,\n",
       "            min_impurity_decrease=0.0, min_impurity_split=None,\n",
       "            min_samples_leaf=1, min_samples_split=2,\n",
       "            min_weight_fraction_leaf=0.0, n_estimators=100, n_jobs=-1,\n",
       "            oob_score=False, random_state=42, verbose=0, warm_start=False)"
      ]
     },
     "execution_count": 205,
     "metadata": {},
     "output_type": "execute_result"
    }
   ],
   "source": [
    "model"
   ]
  },
  {
   "cell_type": "code",
   "execution_count": 206,
   "metadata": {},
   "outputs": [],
   "source": [
    "score = -1 * cross_val_score(model, Xtrain_, ytrain_, scoring='neg_log_loss', cv=3, n_jobs=8)"
   ]
  },
  {
   "cell_type": "code",
   "execution_count": 207,
   "metadata": {},
   "outputs": [
    {
     "name": "stdout",
     "output_type": "stream",
     "text": [
      "Score = 2.281929\n",
      "[2.28079949 2.28281308 2.28217386]\n"
     ]
    }
   ],
   "source": [
    "print(\"Score = {0:.6f}\".format(score.mean()))\n",
    "print(score)"
   ]
  },
  {
   "cell_type": "code",
   "execution_count": 193,
   "metadata": {},
   "outputs": [],
   "source": [
    "from sklearn.model_selection import GridSearchCV\n",
    "param_grid = { \n",
    "    'max_depth': [6,7,8,14,15,16,17],\n",
    "#     'min_weight_fraction_leaf': [0.2,0.3],\n",
    "#     'min_samples_split': [2,3,4,5],\n",
    "    'n_estimators': [75,100,125]\n",
    "}\n",
    "model_gscv = GridSearchCV(\n",
    "    estimator=model,\n",
    "    scoring='neg_log_loss', \n",
    "    param_grid=param_grid, \n",
    "    cv = 2,\n",
    "    n_jobs = -1\n",
    ")"
   ]
  },
  {
   "cell_type": "code",
   "execution_count": 194,
   "metadata": {},
   "outputs": [
    {
     "data": {
      "text/plain": [
       "GridSearchCV(cv=2, error_score='raise-deprecating',\n",
       "       estimator=RandomForestClassifier(bootstrap=True, class_weight=None, criterion='gini',\n",
       "            max_depth=15, max_features='auto', max_leaf_nodes=None,\n",
       "            min_impurity_decrease=0.0, min_impurity_split=None,\n",
       "            min_samples_leaf=1, min_samples_split=2,\n",
       "            min_weight_fraction_leaf=0.02, n_estimators=100, n_jobs=-1,\n",
       "            oob_score=False, random_state=42, verbose=0, warm_start=False),\n",
       "       fit_params=None, iid='warn', n_jobs=-1,\n",
       "       param_grid={'n_estimators': [75, 100, 125], 'max_depth': [6, 7, 8, 14, 15, 16, 17]},\n",
       "       pre_dispatch='2*n_jobs', refit=True, return_train_score='warn',\n",
       "       scoring='neg_log_loss', verbose=0)"
      ]
     },
     "execution_count": 194,
     "metadata": {},
     "output_type": "execute_result"
    }
   ],
   "source": [
    "model_gscv.fit(Xtrain_, ytrain_)"
   ]
  },
  {
   "cell_type": "code",
   "execution_count": 195,
   "metadata": {
    "scrolled": true
   },
   "outputs": [
    {
     "data": {
      "text/plain": [
       "RandomForestClassifier(bootstrap=True, class_weight=None, criterion='gini',\n",
       "            max_depth=14, max_features='auto', max_leaf_nodes=None,\n",
       "            min_impurity_decrease=0.0, min_impurity_split=None,\n",
       "            min_samples_leaf=1, min_samples_split=2,\n",
       "            min_weight_fraction_leaf=0.02, n_estimators=100, n_jobs=-1,\n",
       "            oob_score=False, random_state=42, verbose=0, warm_start=False)"
      ]
     },
     "execution_count": 195,
     "metadata": {},
     "output_type": "execute_result"
    }
   ],
   "source": [
    "model_gscv.best_estimator_"
   ]
  },
  {
   "cell_type": "code",
   "execution_count": 196,
   "metadata": {},
   "outputs": [
    {
     "data": {
      "text/plain": [
       "-2.4604508184194342"
      ]
     },
     "execution_count": 196,
     "metadata": {},
     "output_type": "execute_result"
    }
   ],
   "source": [
    "model_gscv.best_score_"
   ]
  },
  {
   "cell_type": "code",
   "execution_count": 197,
   "metadata": {},
   "outputs": [
    {
     "name": "stdout",
     "output_type": "stream",
     "text": [
      "-2.476288 (0.000517) with: {'n_estimators': 75, 'max_depth': 6}\n",
      "-2.475718 (0.000380) with: {'n_estimators': 100, 'max_depth': 6}\n",
      "-2.475492 (0.000198) with: {'n_estimators': 125, 'max_depth': 6}\n",
      "-2.467486 (0.000750) with: {'n_estimators': 75, 'max_depth': 7}\n",
      "-2.466590 (0.000516) with: {'n_estimators': 100, 'max_depth': 7}\n",
      "-2.466422 (0.000542) with: {'n_estimators': 125, 'max_depth': 7}\n",
      "-2.463292 (0.000304) with: {'n_estimators': 75, 'max_depth': 8}\n",
      "-2.462515 (0.000370) with: {'n_estimators': 100, 'max_depth': 8}\n",
      "-2.462541 (0.000674) with: {'n_estimators': 125, 'max_depth': 8}\n",
      "-2.461409 (0.000200) with: {'n_estimators': 75, 'max_depth': 14}\n",
      "-2.460451 (0.000164) with: {'n_estimators': 100, 'max_depth': 14}\n",
      "-2.460526 (0.000373) with: {'n_estimators': 125, 'max_depth': 14}\n",
      "-2.461409 (0.000200) with: {'n_estimators': 75, 'max_depth': 15}\n",
      "-2.460451 (0.000164) with: {'n_estimators': 100, 'max_depth': 15}\n",
      "-2.460526 (0.000373) with: {'n_estimators': 125, 'max_depth': 15}\n",
      "-2.461409 (0.000200) with: {'n_estimators': 75, 'max_depth': 16}\n",
      "-2.460451 (0.000164) with: {'n_estimators': 100, 'max_depth': 16}\n",
      "-2.460526 (0.000373) with: {'n_estimators': 125, 'max_depth': 16}\n",
      "-2.461409 (0.000200) with: {'n_estimators': 75, 'max_depth': 17}\n",
      "-2.460451 (0.000164) with: {'n_estimators': 100, 'max_depth': 17}\n",
      "-2.460526 (0.000373) with: {'n_estimators': 125, 'max_depth': 17}\n"
     ]
    }
   ],
   "source": [
    "means = model_gscv.cv_results_['mean_test_score']\n",
    "stds = model_gscv.cv_results_['std_test_score']\n",
    "params = model_gscv.cv_results_['params']\n",
    "for mean, stdev, param in zip(means, stds, params):\n",
    "\tprint(\"%f (%f) with: %r\" % (mean, stdev, param))"
   ]
  },
  {
   "cell_type": "code",
   "execution_count": null,
   "metadata": {},
   "outputs": [],
   "source": []
  },
  {
   "cell_type": "markdown",
   "metadata": {},
   "source": [
    "# PCA"
   ]
  },
  {
   "cell_type": "code",
   "execution_count": 44,
   "metadata": {},
   "outputs": [
    {
     "data": {
      "text/plain": [
       "PCA(copy=True, iterated_power='auto', n_components=17, random_state=None,\n",
       "  svd_solver='auto', tol=0.0, whiten=False)"
      ]
     },
     "execution_count": 44,
     "metadata": {},
     "output_type": "execute_result"
    }
   ],
   "source": [
    "from sklearn.decomposition import PCA\n",
    "pca = PCA(n_components=17)\n",
    "pca.fit(Xtrain_, ytrain_)"
   ]
  },
  {
   "cell_type": "code",
   "execution_count": 45,
   "metadata": {},
   "outputs": [],
   "source": [
    "Xtrain_pca = pca.transform(Xtrain_)\n",
    "Xtest_pca = pca.transform(Xtest_)"
   ]
  },
  {
   "cell_type": "code",
   "execution_count": 54,
   "metadata": {},
   "outputs": [
    {
     "data": {
      "text/plain": [
       "((607464, 17), (607464, 37))"
      ]
     },
     "execution_count": 54,
     "metadata": {},
     "output_type": "execute_result"
    }
   ],
   "source": [
    "Xtrain_pca.shape, Xtrain_.shape"
   ]
  },
  {
   "cell_type": "code",
   "execution_count": 59,
   "metadata": {},
   "outputs": [],
   "source": [
    "score = -1 * cross_val_score(model, Xtrain_pca, ytrain_, scoring='neg_log_loss', cv=3, n_jobs=8)"
   ]
  },
  {
   "cell_type": "code",
   "execution_count": 60,
   "metadata": {},
   "outputs": [
    {
     "name": "stdout",
     "output_type": "stream",
     "text": [
      "Score = 2.509333\n",
      "[2.5094304  2.50973531 2.50883184]\n"
     ]
    }
   ],
   "source": [
    "print(\"Score = {0:.6f}\".format(score.mean()))\n",
    "print(score)"
   ]
  },
  {
   "cell_type": "markdown",
   "metadata": {},
   "source": [
    "# Stacking"
   ]
  },
  {
   "cell_type": "code",
   "execution_count": null,
   "metadata": {},
   "outputs": [],
   "source": [
    "from sklearn.model_selection import StratifiedKFold\n",
    "def Stacking(model,train,y,test,n_fold):\n",
    "    folds = StratifiedKFold(n_splits=n_fold,random_state=42)\n",
    "    test_pred = np.empty((0,1),float)\n",
    "    train_pred = np.empty((0,1),float)\n",
    "    for train_indices,val_indices in folds.split(train,y.values):\n",
    "        x_train,x_val = train.iloc[train_indices],train.iloc[val_indices]\n",
    "        y_train,y_val = y.iloc[train_indices],y.iloc[val_indices]\n",
    "\n",
    "        model.fit(X = x_train, y = y_train)\n",
    "        train_pred = np.append(train_pred,model.predict(x_val))\n",
    "    test_pred = np.append(test_pred,model.predict(test))\n",
    "    return test_pred.reshape(-1,1),train_pred"
   ]
  },
  {
   "cell_type": "code",
   "execution_count": null,
   "metadata": {},
   "outputs": [],
   "source": [
    "f1=['X','Y','Hour','Minutes','Year','Month','Day','DayOfWeekNum', 'PdDistrictNum',\n",
    "          'Address_CrossRoad', 'Address_clean_encode']"
   ]
  },
  {
   "cell_type": "code",
   "execution_count": null,
   "metadata": {},
   "outputs": [],
   "source": [
    "tr1, te1 = train_test_split(data, test_size=0.3, random_state=3, shuffle=True)"
   ]
  },
  {
   "cell_type": "code",
   "execution_count": null,
   "metadata": {},
   "outputs": [],
   "source": [
    "ytr1 = tr1['CategoryNum']\n",
    "Xtr1 = tr1[f1]\n",
    "yte1 = te1['CategoryNum']\n",
    "Xte1 = te1[f1]"
   ]
  },
  {
   "cell_type": "code",
   "execution_count": null,
   "metadata": {},
   "outputs": [],
   "source": [
    "rf1 = xgb.XGBClassifier(\n",
    "    seed=42,\n",
    "    max_depth=8,\n",
    "    learning_rate=0.2,\n",
    "    nthread=8,\n",
    "    n_jobs=8,\n",
    "    n_estimators=100\n",
    ")\n",
    "test_pred1 , train_pred1=Stacking(\n",
    "    model = rf1, \n",
    "    n_fold = 3, \n",
    "    train = Xtr1,\n",
    "    test = Xte1,\n",
    "    y = ytr1\n",
    ")\n",
    "\n",
    "train_pred1=pd.DataFrame(train_pred1)\n",
    "test_pred1=pd.DataFrame(test_pred1)"
   ]
  },
  {
   "cell_type": "code",
   "execution_count": null,
   "metadata": {},
   "outputs": [],
   "source": [
    "f2=['X','Y','Hour','Minutes','Year','Month','Day','DayOfWeekNum', 'PdDistrictNum',\n",
    "          'Address_CrossRoad', 'Address_clean_encode','is_weekend', 'is_night_time', 'is_holiday']"
   ]
  },
  {
   "cell_type": "code",
   "execution_count": null,
   "metadata": {},
   "outputs": [],
   "source": [
    "tr2, te2 = train_test_split(data, test_size=0.3, random_state=3, shuffle=True)"
   ]
  },
  {
   "cell_type": "code",
   "execution_count": null,
   "metadata": {},
   "outputs": [],
   "source": [
    "ytr2 = tr2['CategoryNum']\n",
    "Xtr2 = tr2[f2]\n",
    "yte2 = te2['CategoryNum']\n",
    "Xte2 = te2[f2]"
   ]
  },
  {
   "cell_type": "code",
   "execution_count": null,
   "metadata": {},
   "outputs": [],
   "source": [
    "rf2 = RandomForestClassifier(\n",
    "    random_state=42,\n",
    "    max_depth=16,\n",
    "    n_jobs=8,\n",
    "    n_estimators=100\n",
    ")\n",
    "test_pred2 , train_pred2=Stacking(\n",
    "    model = rf2, \n",
    "    n_fold = 3, \n",
    "    train = Xtr2,\n",
    "    test = Xte2,\n",
    "    y = ytr2\n",
    ")\n",
    "\n",
    "train_pred2=pd.DataFrame(train_pred2)\n",
    "test_pred2=pd.DataFrame(test_pred2)"
   ]
  },
  {
   "cell_type": "code",
   "execution_count": null,
   "metadata": {},
   "outputs": [],
   "source": [
    "df = pd.concat([train_pred1, train_pred2], axis=1)\n",
    "df_test = pd.concat([test_pred1, test_pred2], axis=1)"
   ]
  },
  {
   "cell_type": "code",
   "execution_count": null,
   "metadata": {},
   "outputs": [],
   "source": [
    "df.columns[df.columns.duplicated()]"
   ]
  },
  {
   "cell_type": "code",
   "execution_count": null,
   "metadata": {},
   "outputs": [],
   "source": [
    "model = xgb.XGBClassifier(\n",
    "    seed=42,\n",
    "    max_depth=6,\n",
    "    n_jobs=-1,\n",
    "    n_estimators=100\n",
    ")\n",
    "model.fit(df,ytr2)"
   ]
  },
  {
   "cell_type": "code",
   "execution_count": null,
   "metadata": {},
   "outputs": [],
   "source": [
    "log_loss(yte2,model.predict_proba(df_test))"
   ]
  },
  {
   "cell_type": "code",
   "execution_count": null,
   "metadata": {},
   "outputs": [],
   "source": []
  },
  {
   "cell_type": "code",
   "execution_count": null,
   "metadata": {},
   "outputs": [],
   "source": [
    "score = -1 * cross_val_score(model, Xtr1, ytrain_, scoring='neg_log_loss', cv=3, n_jobs=8)"
   ]
  },
  {
   "cell_type": "code",
   "execution_count": null,
   "metadata": {},
   "outputs": [],
   "source": []
  },
  {
   "cell_type": "code",
   "execution_count": 116,
   "metadata": {},
   "outputs": [
    {
     "data": {
      "text/html": [
       "<div>\n",
       "<style scoped>\n",
       "    .dataframe tbody tr th:only-of-type {\n",
       "        vertical-align: middle;\n",
       "    }\n",
       "\n",
       "    .dataframe tbody tr th {\n",
       "        vertical-align: top;\n",
       "    }\n",
       "\n",
       "    .dataframe thead th {\n",
       "        text-align: right;\n",
       "    }\n",
       "</style>\n",
       "<table border=\"1\" class=\"dataframe\">\n",
       "  <thead>\n",
       "    <tr style=\"text-align: right;\">\n",
       "      <th></th>\n",
       "      <th>Address</th>\n",
       "      <th>newAddress</th>\n",
       "    </tr>\n",
       "  </thead>\n",
       "  <tbody>\n",
       "    <tr>\n",
       "      <th>0</th>\n",
       "      <td>2100 Block of MISSION ST</td>\n",
       "      <td>MISSION ST</td>\n",
       "    </tr>\n",
       "    <tr>\n",
       "      <th>1</th>\n",
       "      <td>1000 Block of MARKET ST</td>\n",
       "      <td>MARKET ST</td>\n",
       "    </tr>\n",
       "    <tr>\n",
       "      <th>2</th>\n",
       "      <td>800 Block of BRYANT ST</td>\n",
       "      <td>BRYANT ST</td>\n",
       "    </tr>\n",
       "    <tr>\n",
       "      <th>3</th>\n",
       "      <td>2400 Block of SAN BRUNO AV</td>\n",
       "      <td>SAN BRUNO AV</td>\n",
       "    </tr>\n",
       "    <tr>\n",
       "      <th>4</th>\n",
       "      <td>4TH ST / STEVENSON ST</td>\n",
       "      <td>4TH ST STEVENSON ST</td>\n",
       "    </tr>\n",
       "    <tr>\n",
       "      <th>5</th>\n",
       "      <td>15TH ST / NATOMA ST</td>\n",
       "      <td>15TH ST NATOMA ST</td>\n",
       "    </tr>\n",
       "    <tr>\n",
       "      <th>6</th>\n",
       "      <td>0 Block of MARK LN</td>\n",
       "      <td>MARK LN</td>\n",
       "    </tr>\n",
       "    <tr>\n",
       "      <th>7</th>\n",
       "      <td>100 Block of PUTNAM ST</td>\n",
       "      <td>PUTNAM ST</td>\n",
       "    </tr>\n",
       "    <tr>\n",
       "      <th>8</th>\n",
       "      <td>HALE ST / SAN BRUNO AV</td>\n",
       "      <td>HALE ST SAN BRUNO AV</td>\n",
       "    </tr>\n",
       "    <tr>\n",
       "      <th>9</th>\n",
       "      <td>ELLIS ST / LARKIN ST</td>\n",
       "      <td>ELLIS ST LARKIN ST</td>\n",
       "    </tr>\n",
       "    <tr>\n",
       "      <th>10</th>\n",
       "      <td>1700 Block of SUTTER ST</td>\n",
       "      <td>SUTTER ST</td>\n",
       "    </tr>\n",
       "    <tr>\n",
       "      <th>11</th>\n",
       "      <td>1300 Block of PALOU AV</td>\n",
       "      <td>PALOU AV</td>\n",
       "    </tr>\n",
       "    <tr>\n",
       "      <th>12</th>\n",
       "      <td>11TH AV / GEARY BL</td>\n",
       "      <td>11TH AV GEARY BL</td>\n",
       "    </tr>\n",
       "    <tr>\n",
       "      <th>13</th>\n",
       "      <td>1700 Block of EUCALYPTUS DR</td>\n",
       "      <td>EUCALYPTUS DR</td>\n",
       "    </tr>\n",
       "    <tr>\n",
       "      <th>14</th>\n",
       "      <td>300 Block of GOLDEN GATE AV</td>\n",
       "      <td>GOLDEN GATE AV</td>\n",
       "    </tr>\n",
       "    <tr>\n",
       "      <th>15</th>\n",
       "      <td>400 Block of GEARY ST</td>\n",
       "      <td>GEARY ST</td>\n",
       "    </tr>\n",
       "    <tr>\n",
       "      <th>16</th>\n",
       "      <td>300 Block of LAGUNA HONDA BL</td>\n",
       "      <td>LAGUNA HONDA BL</td>\n",
       "    </tr>\n",
       "    <tr>\n",
       "      <th>17</th>\n",
       "      <td>18TH ST / VALENCIA ST</td>\n",
       "      <td>18TH ST VALENCIA ST</td>\n",
       "    </tr>\n",
       "    <tr>\n",
       "      <th>18</th>\n",
       "      <td>1200 Block of PAGE ST</td>\n",
       "      <td>PAGE ST</td>\n",
       "    </tr>\n",
       "    <tr>\n",
       "      <th>19</th>\n",
       "      <td>9TH ST / FOLSOM ST</td>\n",
       "      <td>9TH ST FOLSOM ST</td>\n",
       "    </tr>\n",
       "    <tr>\n",
       "      <th>20</th>\n",
       "      <td>500 Block of COLE ST</td>\n",
       "      <td>COLE ST</td>\n",
       "    </tr>\n",
       "    <tr>\n",
       "      <th>21</th>\n",
       "      <td>200 Block of KING ST</td>\n",
       "      <td>KING ST</td>\n",
       "    </tr>\n",
       "    <tr>\n",
       "      <th>22</th>\n",
       "      <td>HARRISON ST / 3RD ST</td>\n",
       "      <td>HARRISON ST 3RD ST</td>\n",
       "    </tr>\n",
       "    <tr>\n",
       "      <th>23</th>\n",
       "      <td>3700 Block of 22ND ST</td>\n",
       "      <td>22ND ST</td>\n",
       "    </tr>\n",
       "    <tr>\n",
       "      <th>24</th>\n",
       "      <td>1700 Block of 15TH ST</td>\n",
       "      <td>15TH ST</td>\n",
       "    </tr>\n",
       "    <tr>\n",
       "      <th>25</th>\n",
       "      <td>0 Block of TURK ST</td>\n",
       "      <td>TURK ST</td>\n",
       "    </tr>\n",
       "    <tr>\n",
       "      <th>26</th>\n",
       "      <td>800 Block of BRYANT ST</td>\n",
       "      <td>BRYANT ST</td>\n",
       "    </tr>\n",
       "    <tr>\n",
       "      <th>27</th>\n",
       "      <td>200 Block of KING ST</td>\n",
       "      <td>KING ST</td>\n",
       "    </tr>\n",
       "    <tr>\n",
       "      <th>28</th>\n",
       "      <td>2900 Block of VAN NESS AV</td>\n",
       "      <td>VAN NESS AV</td>\n",
       "    </tr>\n",
       "    <tr>\n",
       "      <th>29</th>\n",
       "      <td>7TH ST / MARKET ST</td>\n",
       "      <td>7TH ST MARKET ST</td>\n",
       "    </tr>\n",
       "    <tr>\n",
       "      <th>...</th>\n",
       "      <td>...</td>\n",
       "      <td>...</td>\n",
       "    </tr>\n",
       "    <tr>\n",
       "      <th>867843</th>\n",
       "      <td>1300 Block of GREENWICH ST</td>\n",
       "      <td>GREENWICH ST</td>\n",
       "    </tr>\n",
       "    <tr>\n",
       "      <th>867844</th>\n",
       "      <td>900 Block of SUTTER ST</td>\n",
       "      <td>SUTTER ST</td>\n",
       "    </tr>\n",
       "    <tr>\n",
       "      <th>867845</th>\n",
       "      <td>1000 Block of SUTTER ST</td>\n",
       "      <td>SUTTER ST</td>\n",
       "    </tr>\n",
       "    <tr>\n",
       "      <th>867846</th>\n",
       "      <td>700 Block of 33RD AV</td>\n",
       "      <td>33RD AV</td>\n",
       "    </tr>\n",
       "    <tr>\n",
       "      <th>867847</th>\n",
       "      <td>400 Block of HILL ST</td>\n",
       "      <td>HILL ST</td>\n",
       "    </tr>\n",
       "    <tr>\n",
       "      <th>867848</th>\n",
       "      <td>1000 Block of POTRERO AV</td>\n",
       "      <td>POTRERO AV</td>\n",
       "    </tr>\n",
       "    <tr>\n",
       "      <th>867849</th>\n",
       "      <td>TURK ST / TAYLOR ST</td>\n",
       "      <td>TURK ST TAYLOR ST</td>\n",
       "    </tr>\n",
       "    <tr>\n",
       "      <th>867850</th>\n",
       "      <td>300 Block of SUTTER ST</td>\n",
       "      <td>SUTTER ST</td>\n",
       "    </tr>\n",
       "    <tr>\n",
       "      <th>867851</th>\n",
       "      <td>200 Block of LELAND AV</td>\n",
       "      <td>LELAND AV</td>\n",
       "    </tr>\n",
       "    <tr>\n",
       "      <th>867852</th>\n",
       "      <td>200 Block of 7TH AV</td>\n",
       "      <td>7TH AV</td>\n",
       "    </tr>\n",
       "    <tr>\n",
       "      <th>867853</th>\n",
       "      <td>100 Block of TRUMBULL ST</td>\n",
       "      <td>TRUMBULL ST</td>\n",
       "    </tr>\n",
       "    <tr>\n",
       "      <th>867854</th>\n",
       "      <td>300 Block of OFARRELL ST</td>\n",
       "      <td>OFARRELL ST</td>\n",
       "    </tr>\n",
       "    <tr>\n",
       "      <th>867855</th>\n",
       "      <td>0 Block of GROVE ST</td>\n",
       "      <td>GROVE ST</td>\n",
       "    </tr>\n",
       "    <tr>\n",
       "      <th>867856</th>\n",
       "      <td>0 Block of NEPTUNE ST</td>\n",
       "      <td>NEPTUNE ST</td>\n",
       "    </tr>\n",
       "    <tr>\n",
       "      <th>867857</th>\n",
       "      <td>3700 Block of 18TH ST</td>\n",
       "      <td>18TH ST</td>\n",
       "    </tr>\n",
       "    <tr>\n",
       "      <th>867858</th>\n",
       "      <td>0 Block of LEO ST</td>\n",
       "      <td>LEO ST</td>\n",
       "    </tr>\n",
       "    <tr>\n",
       "      <th>867859</th>\n",
       "      <td>0 Block of 3RD ST</td>\n",
       "      <td>3RD ST</td>\n",
       "    </tr>\n",
       "    <tr>\n",
       "      <th>867860</th>\n",
       "      <td>VALENCIA ST / 23RD ST</td>\n",
       "      <td>VALENCIA ST 23RD ST</td>\n",
       "    </tr>\n",
       "    <tr>\n",
       "      <th>867861</th>\n",
       "      <td>2100 Block of 24TH AV</td>\n",
       "      <td>24TH AV</td>\n",
       "    </tr>\n",
       "    <tr>\n",
       "      <th>867862</th>\n",
       "      <td>LARKIN ST / BEACH ST</td>\n",
       "      <td>LARKIN ST BEACH ST</td>\n",
       "    </tr>\n",
       "    <tr>\n",
       "      <th>867863</th>\n",
       "      <td>MAIN ST / MARKET ST</td>\n",
       "      <td>MAIN ST MARKET ST</td>\n",
       "    </tr>\n",
       "    <tr>\n",
       "      <th>867864</th>\n",
       "      <td>MARKET ST / 7TH ST</td>\n",
       "      <td>MARKET ST 7TH ST</td>\n",
       "    </tr>\n",
       "    <tr>\n",
       "      <th>867865</th>\n",
       "      <td>LEAVENWORTH ST / TURK ST</td>\n",
       "      <td>LEAVENWORTH ST TURK ST</td>\n",
       "    </tr>\n",
       "    <tr>\n",
       "      <th>867866</th>\n",
       "      <td>600 Block of POINTLOBOS AV</td>\n",
       "      <td>POINTLOBOS AV</td>\n",
       "    </tr>\n",
       "    <tr>\n",
       "      <th>867867</th>\n",
       "      <td>FILLMORE ST / MCALLISTER ST</td>\n",
       "      <td>FILLMORE ST MCALLISTER ST</td>\n",
       "    </tr>\n",
       "    <tr>\n",
       "      <th>867868</th>\n",
       "      <td>0 Block of OFARRELL ST</td>\n",
       "      <td>OFARRELL ST</td>\n",
       "    </tr>\n",
       "    <tr>\n",
       "      <th>867869</th>\n",
       "      <td>300 Block of BERRY ST</td>\n",
       "      <td>BERRY ST</td>\n",
       "    </tr>\n",
       "    <tr>\n",
       "      <th>867870</th>\n",
       "      <td>2000 Block of MARKET ST</td>\n",
       "      <td>MARKET ST</td>\n",
       "    </tr>\n",
       "    <tr>\n",
       "      <th>867871</th>\n",
       "      <td>24TH ST / ILLINOIS ST</td>\n",
       "      <td>24TH ST ILLINOIS ST</td>\n",
       "    </tr>\n",
       "    <tr>\n",
       "      <th>867872</th>\n",
       "      <td>MARKET ST / 5TH ST</td>\n",
       "      <td>MARKET ST 5TH ST</td>\n",
       "    </tr>\n",
       "  </tbody>\n",
       "</table>\n",
       "<p>867806 rows × 2 columns</p>\n",
       "</div>"
      ],
      "text/plain": [
       "                             Address                 newAddress\n",
       "0           2100 Block of MISSION ST                 MISSION ST\n",
       "1            1000 Block of MARKET ST                  MARKET ST\n",
       "2             800 Block of BRYANT ST                  BRYANT ST\n",
       "3         2400 Block of SAN BRUNO AV               SAN BRUNO AV\n",
       "4              4TH ST / STEVENSON ST        4TH ST STEVENSON ST\n",
       "5                15TH ST / NATOMA ST          15TH ST NATOMA ST\n",
       "6                 0 Block of MARK LN                    MARK LN\n",
       "7             100 Block of PUTNAM ST                  PUTNAM ST\n",
       "8             HALE ST / SAN BRUNO AV       HALE ST SAN BRUNO AV\n",
       "9               ELLIS ST / LARKIN ST         ELLIS ST LARKIN ST\n",
       "10           1700 Block of SUTTER ST                  SUTTER ST\n",
       "11            1300 Block of PALOU AV                   PALOU AV\n",
       "12                11TH AV / GEARY BL           11TH AV GEARY BL\n",
       "13       1700 Block of EUCALYPTUS DR              EUCALYPTUS DR\n",
       "14       300 Block of GOLDEN GATE AV             GOLDEN GATE AV\n",
       "15             400 Block of GEARY ST                   GEARY ST\n",
       "16      300 Block of LAGUNA HONDA BL            LAGUNA HONDA BL\n",
       "17             18TH ST / VALENCIA ST        18TH ST VALENCIA ST\n",
       "18             1200 Block of PAGE ST                    PAGE ST\n",
       "19                9TH ST / FOLSOM ST           9TH ST FOLSOM ST\n",
       "20              500 Block of COLE ST                    COLE ST\n",
       "21              200 Block of KING ST                    KING ST\n",
       "22              HARRISON ST / 3RD ST         HARRISON ST 3RD ST\n",
       "23             3700 Block of 22ND ST                    22ND ST\n",
       "24             1700 Block of 15TH ST                    15TH ST\n",
       "25                0 Block of TURK ST                    TURK ST\n",
       "26            800 Block of BRYANT ST                  BRYANT ST\n",
       "27              200 Block of KING ST                    KING ST\n",
       "28         2900 Block of VAN NESS AV                VAN NESS AV\n",
       "29                7TH ST / MARKET ST           7TH ST MARKET ST\n",
       "...                              ...                        ...\n",
       "867843    1300 Block of GREENWICH ST               GREENWICH ST\n",
       "867844        900 Block of SUTTER ST                  SUTTER ST\n",
       "867845       1000 Block of SUTTER ST                  SUTTER ST\n",
       "867846          700 Block of 33RD AV                    33RD AV\n",
       "867847          400 Block of HILL ST                    HILL ST\n",
       "867848      1000 Block of POTRERO AV                 POTRERO AV\n",
       "867849           TURK ST / TAYLOR ST          TURK ST TAYLOR ST\n",
       "867850        300 Block of SUTTER ST                  SUTTER ST\n",
       "867851        200 Block of LELAND AV                  LELAND AV\n",
       "867852           200 Block of 7TH AV                     7TH AV\n",
       "867853      100 Block of TRUMBULL ST                TRUMBULL ST\n",
       "867854      300 Block of OFARRELL ST                OFARRELL ST\n",
       "867855           0 Block of GROVE ST                   GROVE ST\n",
       "867856         0 Block of NEPTUNE ST                 NEPTUNE ST\n",
       "867857         3700 Block of 18TH ST                    18TH ST\n",
       "867858             0 Block of LEO ST                     LEO ST\n",
       "867859             0 Block of 3RD ST                     3RD ST\n",
       "867860         VALENCIA ST / 23RD ST        VALENCIA ST 23RD ST\n",
       "867861         2100 Block of 24TH AV                    24TH AV\n",
       "867862          LARKIN ST / BEACH ST         LARKIN ST BEACH ST\n",
       "867863           MAIN ST / MARKET ST          MAIN ST MARKET ST\n",
       "867864            MARKET ST / 7TH ST           MARKET ST 7TH ST\n",
       "867865      LEAVENWORTH ST / TURK ST     LEAVENWORTH ST TURK ST\n",
       "867866    600 Block of POINTLOBOS AV              POINTLOBOS AV\n",
       "867867   FILLMORE ST / MCALLISTER ST  FILLMORE ST MCALLISTER ST\n",
       "867868        0 Block of OFARRELL ST                OFARRELL ST\n",
       "867869         300 Block of BERRY ST                   BERRY ST\n",
       "867870       2000 Block of MARKET ST                  MARKET ST\n",
       "867871         24TH ST / ILLINOIS ST        24TH ST ILLINOIS ST\n",
       "867872            MARKET ST / 5TH ST           MARKET ST 5TH ST\n",
       "\n",
       "[867806 rows x 2 columns]"
      ]
     },
     "execution_count": 116,
     "metadata": {},
     "output_type": "execute_result"
    }
   ],
   "source": [
    "data[['Address','newAddress']]"
   ]
  },
  {
   "cell_type": "code",
   "execution_count": null,
   "metadata": {},
   "outputs": [],
   "source": []
  },
  {
   "cell_type": "code",
   "execution_count": null,
   "metadata": {},
   "outputs": [],
   "source": []
  },
  {
   "cell_type": "code",
   "execution_count": null,
   "metadata": {},
   "outputs": [],
   "source": [
    "model.fit(X_train,y_train)"
   ]
  },
  {
   "cell_type": "code",
   "execution_count": 209,
   "metadata": {},
   "outputs": [],
   "source": [
    "import pickle"
   ]
  },
  {
   "cell_type": "code",
   "execution_count": null,
   "metadata": {},
   "outputs": [],
   "source": [
    "pickle.dump(model, open(\"xgboost_wo_res61118.p\", \"wb\"))"
   ]
  },
  {
   "cell_type": "code",
   "execution_count": 211,
   "metadata": {},
   "outputs": [
    {
     "data": {
      "text/plain": [
       "XGBClassifier(base_score=0.5, booster='gbtree', colsample_bylevel=1,\n",
       "       colsample_bytree=1, gamma=0, learning_rate=0.1, max_delta_step=0,\n",
       "       max_depth=6, min_child_weight=1, missing=nan, n_estimators=100,\n",
       "       n_jobs=-1, nthread=None, objective='binary:logistic',\n",
       "       random_state=0, reg_alpha=0, reg_lambda=1, scale_pos_weight=1,\n",
       "       seed=42, silent=True, subsample=1)"
      ]
     },
     "execution_count": 211,
     "metadata": {},
     "output_type": "execute_result"
    }
   ],
   "source": [
    "model = pickle.load(open(\"xgboost_wo_res301118.p\", \"rb\"))\n",
    "model"
   ]
  },
  {
   "cell_type": "code",
   "execution_count": 215,
   "metadata": {},
   "outputs": [
    {
     "ename": "XGBoostError",
     "evalue": "need to call fit or load_model beforehand",
     "output_type": "error",
     "traceback": [
      "\u001b[0;31m---------------------------------------------------------------------------\u001b[0m",
      "\u001b[0;31mXGBoostError\u001b[0m                              Traceback (most recent call last)",
      "\u001b[0;32m<ipython-input-215-8479de99c91c>\u001b[0m in \u001b[0;36m<module>\u001b[0;34m()\u001b[0m\n\u001b[0;32m----> 1\u001b[0;31m \u001b[0mpredictions\u001b[0m \u001b[0;34m=\u001b[0m \u001b[0mmodel\u001b[0m\u001b[0;34m.\u001b[0m\u001b[0mpredict_proba\u001b[0m\u001b[0;34m(\u001b[0m\u001b[0mX_test\u001b[0m\u001b[0;34m)\u001b[0m\u001b[0;34m\u001b[0m\u001b[0m\n\u001b[0m",
      "\u001b[0;32m~/miniconda2/envs/deeplearning/lib/python3.5/site-packages/xgboost/sklearn.py\u001b[0m in \u001b[0;36mpredict_proba\u001b[0;34m(self, data, ntree_limit)\u001b[0m\n\u001b[1;32m    630\u001b[0m         \u001b[0;32mif\u001b[0m \u001b[0mntree_limit\u001b[0m \u001b[0;32mis\u001b[0m \u001b[0;32mNone\u001b[0m\u001b[0;34m:\u001b[0m\u001b[0;34m\u001b[0m\u001b[0m\n\u001b[1;32m    631\u001b[0m             \u001b[0mntree_limit\u001b[0m \u001b[0;34m=\u001b[0m \u001b[0mgetattr\u001b[0m\u001b[0;34m(\u001b[0m\u001b[0mself\u001b[0m\u001b[0;34m,\u001b[0m \u001b[0;34m\"best_ntree_limit\"\u001b[0m\u001b[0;34m,\u001b[0m \u001b[0;36m0\u001b[0m\u001b[0;34m)\u001b[0m\u001b[0;34m\u001b[0m\u001b[0m\n\u001b[0;32m--> 632\u001b[0;31m         class_probs = self.get_booster().predict(test_dmatrix,\n\u001b[0m\u001b[1;32m    633\u001b[0m                                                  ntree_limit=ntree_limit)\n\u001b[1;32m    634\u001b[0m         \u001b[0;32mif\u001b[0m \u001b[0mself\u001b[0m\u001b[0;34m.\u001b[0m\u001b[0mobjective\u001b[0m \u001b[0;34m==\u001b[0m \u001b[0;34m\"multi:softprob\"\u001b[0m\u001b[0;34m:\u001b[0m\u001b[0;34m\u001b[0m\u001b[0m\n",
      "\u001b[0;32m~/miniconda2/envs/deeplearning/lib/python3.5/site-packages/xgboost/sklearn.py\u001b[0m in \u001b[0;36mget_booster\u001b[0;34m(self)\u001b[0m\n\u001b[1;32m    177\u001b[0m         \"\"\"\n\u001b[1;32m    178\u001b[0m         \u001b[0;32mif\u001b[0m \u001b[0mself\u001b[0m\u001b[0;34m.\u001b[0m\u001b[0m_Booster\u001b[0m \u001b[0;32mis\u001b[0m \u001b[0;32mNone\u001b[0m\u001b[0;34m:\u001b[0m\u001b[0;34m\u001b[0m\u001b[0m\n\u001b[0;32m--> 179\u001b[0;31m             \u001b[0;32mraise\u001b[0m \u001b[0mXGBoostError\u001b[0m\u001b[0;34m(\u001b[0m\u001b[0;34m'need to call fit or load_model beforehand'\u001b[0m\u001b[0;34m)\u001b[0m\u001b[0;34m\u001b[0m\u001b[0m\n\u001b[0m\u001b[1;32m    180\u001b[0m         \u001b[0;32mreturn\u001b[0m \u001b[0mself\u001b[0m\u001b[0;34m.\u001b[0m\u001b[0m_Booster\u001b[0m\u001b[0;34m\u001b[0m\u001b[0m\n\u001b[1;32m    181\u001b[0m \u001b[0;34m\u001b[0m\u001b[0m\n",
      "\u001b[0;31mXGBoostError\u001b[0m: need to call fit or load_model beforehand"
     ]
    }
   ],
   "source": [
    "predictions = model.predict_proba(X_test)"
   ]
  },
  {
   "cell_type": "code",
   "execution_count": null,
   "metadata": {},
   "outputs": [],
   "source": [
    "submission = pd.DataFrame(predictions)\n",
    "submission.columns = sorted(data.Category.unique())\n",
    "submission['Id'] = test['Id']\n",
    "submission"
   ]
  },
  {
   "cell_type": "code",
   "execution_count": null,
   "metadata": {},
   "outputs": [],
   "source": [
    "submission.to_csv('submission.csv', index=False)"
   ]
  },
  {
   "cell_type": "code",
   "execution_count": null,
   "metadata": {},
   "outputs": [],
   "source": []
  }
 ],
 "metadata": {
  "kernelspec": {
   "display_name": "Python 3",
   "language": "python",
   "name": "python3"
  },
  "language_info": {
   "codemirror_mode": {
    "name": "ipython",
    "version": 3
   },
   "file_extension": ".py",
   "mimetype": "text/x-python",
   "name": "python",
   "nbconvert_exporter": "python",
   "pygments_lexer": "ipython3",
   "version": "3.5.6"
  }
 },
 "nbformat": 4,
 "nbformat_minor": 2
}
