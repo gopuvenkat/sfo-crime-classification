{
 "cells": [
  {
   "cell_type": "code",
   "execution_count": 1,
   "metadata": {},
   "outputs": [],
   "source": [
    "import numpy as np\n",
    "import pandas as pd\n",
    "import matplotlib as mpl"
   ]
  },
  {
   "cell_type": "code",
   "execution_count": 2,
   "metadata": {},
   "outputs": [],
   "source": [
    "data = pd.read_csv('train.csv')"
   ]
  },
  {
   "cell_type": "code",
   "execution_count": 3,
   "metadata": {},
   "outputs": [
    {
     "data": {
      "text/html": [
       "<div>\n",
       "<style scoped>\n",
       "    .dataframe tbody tr th:only-of-type {\n",
       "        vertical-align: middle;\n",
       "    }\n",
       "\n",
       "    .dataframe tbody tr th {\n",
       "        vertical-align: top;\n",
       "    }\n",
       "\n",
       "    .dataframe thead th {\n",
       "        text-align: right;\n",
       "    }\n",
       "</style>\n",
       "<table border=\"1\" class=\"dataframe\">\n",
       "  <thead>\n",
       "    <tr style=\"text-align: right;\">\n",
       "      <th></th>\n",
       "      <th>Dates</th>\n",
       "      <th>Category</th>\n",
       "      <th>Descript</th>\n",
       "      <th>DayOfWeek</th>\n",
       "      <th>PdDistrict</th>\n",
       "      <th>Resolution</th>\n",
       "      <th>Address</th>\n",
       "      <th>X</th>\n",
       "      <th>Y</th>\n",
       "      <th>Id</th>\n",
       "    </tr>\n",
       "  </thead>\n",
       "  <tbody>\n",
       "    <tr>\n",
       "      <th>0</th>\n",
       "      <td>2013-06-28 17:40:00</td>\n",
       "      <td>SEX OFFENSES FORCIBLE</td>\n",
       "      <td>FORCIBLE RAPE, BODILY FORCE</td>\n",
       "      <td>Friday</td>\n",
       "      <td>MISSION</td>\n",
       "      <td>NONE</td>\n",
       "      <td>2100 Block of MISSION ST</td>\n",
       "      <td>-122.419331</td>\n",
       "      <td>37.762264</td>\n",
       "      <td>141546</td>\n",
       "    </tr>\n",
       "    <tr>\n",
       "      <th>1</th>\n",
       "      <td>2004-02-19 02:46:00</td>\n",
       "      <td>LIQUOR LAWS</td>\n",
       "      <td>CONSUMING ALCOHOL IN PUBLIC VIEW</td>\n",
       "      <td>Thursday</td>\n",
       "      <td>SOUTHERN</td>\n",
       "      <td>ARREST, BOOKED</td>\n",
       "      <td>1000 Block of MARKET ST</td>\n",
       "      <td>-122.411340</td>\n",
       "      <td>37.781271</td>\n",
       "      <td>794152</td>\n",
       "    </tr>\n",
       "    <tr>\n",
       "      <th>2</th>\n",
       "      <td>2007-11-14 00:01:00</td>\n",
       "      <td>FRAUD</td>\n",
       "      <td>CREDIT CARD, THEFT BY USE OF</td>\n",
       "      <td>Wednesday</td>\n",
       "      <td>SOUTHERN</td>\n",
       "      <td>NONE</td>\n",
       "      <td>800 Block of BRYANT ST</td>\n",
       "      <td>-122.403405</td>\n",
       "      <td>37.775421</td>\n",
       "      <td>531205</td>\n",
       "    </tr>\n",
       "    <tr>\n",
       "      <th>3</th>\n",
       "      <td>2007-12-27 18:30:00</td>\n",
       "      <td>ROBBERY</td>\n",
       "      <td>ROBBERY OF A CHAIN STORE WITH A GUN</td>\n",
       "      <td>Thursday</td>\n",
       "      <td>BAYVIEW</td>\n",
       "      <td>DISTRICT ATTORNEY REFUSES TO PROSECUTE</td>\n",
       "      <td>2400 Block of SAN BRUNO AV</td>\n",
       "      <td>-122.404715</td>\n",
       "      <td>37.730161</td>\n",
       "      <td>523137</td>\n",
       "    </tr>\n",
       "    <tr>\n",
       "      <th>4</th>\n",
       "      <td>2012-09-09 17:02:00</td>\n",
       "      <td>OTHER OFFENSES</td>\n",
       "      <td>PROBATION VIOLATION</td>\n",
       "      <td>Sunday</td>\n",
       "      <td>SOUTHERN</td>\n",
       "      <td>ARREST, BOOKED</td>\n",
       "      <td>4TH ST / STEVENSON ST</td>\n",
       "      <td>-122.405239</td>\n",
       "      <td>37.785265</td>\n",
       "      <td>200968</td>\n",
       "    </tr>\n",
       "  </tbody>\n",
       "</table>\n",
       "</div>"
      ],
      "text/plain": [
       "                 Dates               Category  \\\n",
       "0  2013-06-28 17:40:00  SEX OFFENSES FORCIBLE   \n",
       "1  2004-02-19 02:46:00            LIQUOR LAWS   \n",
       "2  2007-11-14 00:01:00                  FRAUD   \n",
       "3  2007-12-27 18:30:00                ROBBERY   \n",
       "4  2012-09-09 17:02:00         OTHER OFFENSES   \n",
       "\n",
       "                              Descript  DayOfWeek PdDistrict  \\\n",
       "0          FORCIBLE RAPE, BODILY FORCE     Friday    MISSION   \n",
       "1     CONSUMING ALCOHOL IN PUBLIC VIEW   Thursday   SOUTHERN   \n",
       "2         CREDIT CARD, THEFT BY USE OF  Wednesday   SOUTHERN   \n",
       "3  ROBBERY OF A CHAIN STORE WITH A GUN   Thursday    BAYVIEW   \n",
       "4                  PROBATION VIOLATION     Sunday   SOUTHERN   \n",
       "\n",
       "                               Resolution                     Address  \\\n",
       "0                                    NONE    2100 Block of MISSION ST   \n",
       "1                          ARREST, BOOKED     1000 Block of MARKET ST   \n",
       "2                                    NONE      800 Block of BRYANT ST   \n",
       "3  DISTRICT ATTORNEY REFUSES TO PROSECUTE  2400 Block of SAN BRUNO AV   \n",
       "4                          ARREST, BOOKED       4TH ST / STEVENSON ST   \n",
       "\n",
       "            X          Y      Id  \n",
       "0 -122.419331  37.762264  141546  \n",
       "1 -122.411340  37.781271  794152  \n",
       "2 -122.403405  37.775421  531205  \n",
       "3 -122.404715  37.730161  523137  \n",
       "4 -122.405239  37.785265  200968  "
      ]
     },
     "execution_count": 3,
     "metadata": {},
     "output_type": "execute_result"
    }
   ],
   "source": [
    "data.head()"
   ]
  },
  {
   "cell_type": "code",
   "execution_count": 4,
   "metadata": {},
   "outputs": [
    {
     "name": "stdout",
     "output_type": "stream",
     "text": [
      "<class 'pandas.core.frame.DataFrame'>\n",
      "RangeIndex: 867873 entries, 0 to 867872\n",
      "Data columns (total 10 columns):\n",
      "Dates         867873 non-null object\n",
      "Category      867873 non-null object\n",
      "Descript      867873 non-null object\n",
      "DayOfWeek     867873 non-null object\n",
      "PdDistrict    867873 non-null object\n",
      "Resolution    867873 non-null object\n",
      "Address       867873 non-null object\n",
      "X             867873 non-null float64\n",
      "Y             867873 non-null float64\n",
      "Id            867873 non-null int64\n",
      "dtypes: float64(2), int64(1), object(7)\n",
      "memory usage: 66.2+ MB\n"
     ]
    }
   ],
   "source": [
    "data.info()"
   ]
  },
  {
   "cell_type": "code",
   "execution_count": 5,
   "metadata": {},
   "outputs": [
    {
     "data": {
      "text/plain": [
       "False"
      ]
     },
     "execution_count": 5,
     "metadata": {},
     "output_type": "execute_result"
    }
   ],
   "source": [
    "data.isnull().values.any()\n",
    "# No null values in the data-frame"
   ]
  },
  {
   "cell_type": "code",
   "execution_count": 6,
   "metadata": {},
   "outputs": [
    {
     "name": "stdout",
     "output_type": "stream",
     "text": [
      "           X         Y        Id\n",
      "X   1.000000  0.561559  0.004072\n",
      "Y   0.561559  1.000000  0.008923\n",
      "Id  0.004072  0.008923  1.000000\n"
     ]
    }
   ],
   "source": [
    "corr_matrix = data.corr()\n",
    "print(corr_matrix)"
   ]
  }
 ],
 "metadata": {
  "kernelspec": {
   "display_name": "ML",
   "language": "python",
   "name": "ml"
  },
  "language_info": {
   "codemirror_mode": {
    "name": "ipython",
    "version": 3
   },
   "file_extension": ".py",
   "mimetype": "text/x-python",
   "name": "python",
   "nbconvert_exporter": "python",
   "pygments_lexer": "ipython3",
   "version": "3.5.2"
  }
 },
 "nbformat": 4,
 "nbformat_minor": 2
}
