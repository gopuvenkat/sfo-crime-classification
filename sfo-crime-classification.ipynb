{
 "cells": [
  {
   "cell_type": "code",
   "execution_count": 1,
   "metadata": {},
   "outputs": [],
   "source": [
    "import numpy as np\n",
    "import pandas as pd\n",
    "import matplotlib.pyplot as plt\n",
    "from sklearn.model_selection import train_test_split\n",
    "from sklearn.preprocessing import LabelEncoder,scale\n",
    "from sklearn.model_selection import cross_val_score\n",
    "from sklearn.metrics import log_loss"
   ]
  },
  {
   "cell_type": "code",
   "execution_count": 2,
   "metadata": {},
   "outputs": [],
   "source": [
    "# Dates have to extracted\n",
    "# data = pd.read_csv('train.csv', parse_dates=['Dates'])\n",
    "data = pd.read_csv('./dataset/train.csv', parse_dates=['Dates'])\n",
    "test = pd.read_csv('./dataset/test.csv', parse_dates=['Dates'])"
   ]
  },
  {
   "cell_type": "code",
   "execution_count": 3,
   "metadata": {},
   "outputs": [
    {
     "name": "stdout",
     "output_type": "stream",
     "text": [
      "<class 'pandas.core.frame.DataFrame'>\n",
      "RangeIndex: 867873 entries, 0 to 867872\n",
      "Data columns (total 10 columns):\n",
      "Dates         867873 non-null datetime64[ns]\n",
      "Category      867873 non-null object\n",
      "Descript      867873 non-null object\n",
      "DayOfWeek     867873 non-null object\n",
      "PdDistrict    867873 non-null object\n",
      "Resolution    867873 non-null object\n",
      "Address       867873 non-null object\n",
      "X             867873 non-null float64\n",
      "Y             867873 non-null float64\n",
      "Id            867873 non-null int64\n",
      "dtypes: datetime64[ns](1), float64(2), int64(1), object(6)\n",
      "memory usage: 66.2+ MB\n"
     ]
    }
   ],
   "source": [
    "data.info()"
   ]
  },
  {
   "cell_type": "code",
   "execution_count": 4,
   "metadata": {},
   "outputs": [
    {
     "data": {
      "text/plain": [
       "False"
      ]
     },
     "execution_count": 4,
     "metadata": {},
     "output_type": "execute_result"
    }
   ],
   "source": [
    "# No null values in the data-frame\n",
    "data.isnull().values.any()"
   ]
  },
  {
   "cell_type": "code",
   "execution_count": 5,
   "metadata": {},
   "outputs": [],
   "source": [
    "# Dates\n",
    "data_week_dict = {\n",
    "    'Monday': 1,\n",
    "    'Tuesday':2,\n",
    "    'Wednesday':3,\n",
    "    'Thursday':4,\n",
    "    'Friday':5,\n",
    "    'Saturday':6,\n",
    "    'Sunday':7\n",
    "}\n",
    "\n",
    "data['Hour'] = data.Dates.dt.hour\n",
    "data['Minutes'] = data.Dates.dt.minute\n",
    "data['Year'] = data.Dates.dt.year\n",
    "data['Month'] = data.Dates.dt.month\n",
    "data['Day'] = data.Dates.dt.day\n",
    "data['DayOfWeekNum'] = data['DayOfWeek'].replace(data_week_dict)\n",
    "\n",
    "test['Hour'] = test.Dates.dt.hour\n",
    "test['Minutes'] = test.Dates.dt.minute\n",
    "test['Year'] = test.Dates.dt.year\n",
    "test['Month'] = test.Dates.dt.month\n",
    "test['Day'] = test.Dates.dt.day\n",
    "test['DayOfWeekNum'] = test['DayOfWeek'].replace(data_week_dict)"
   ]
  },
  {
   "cell_type": "code",
   "execution_count": 6,
   "metadata": {},
   "outputs": [
    {
     "data": {
      "text/html": [
       "<div>\n",
       "<style scoped>\n",
       "    .dataframe tbody tr th:only-of-type {\n",
       "        vertical-align: middle;\n",
       "    }\n",
       "\n",
       "    .dataframe tbody tr th {\n",
       "        vertical-align: top;\n",
       "    }\n",
       "\n",
       "    .dataframe thead th {\n",
       "        text-align: right;\n",
       "    }\n",
       "</style>\n",
       "<table border=\"1\" class=\"dataframe\">\n",
       "  <thead>\n",
       "    <tr style=\"text-align: right;\">\n",
       "      <th></th>\n",
       "      <th>Dates</th>\n",
       "      <th>Category</th>\n",
       "      <th>Descript</th>\n",
       "      <th>DayOfWeek</th>\n",
       "      <th>PdDistrict</th>\n",
       "      <th>Resolution</th>\n",
       "      <th>Address</th>\n",
       "      <th>X</th>\n",
       "      <th>Y</th>\n",
       "      <th>Id</th>\n",
       "      <th>Hour</th>\n",
       "      <th>Minutes</th>\n",
       "      <th>Year</th>\n",
       "      <th>Month</th>\n",
       "      <th>Day</th>\n",
       "      <th>DayOfWeekNum</th>\n",
       "    </tr>\n",
       "  </thead>\n",
       "  <tbody>\n",
       "    <tr>\n",
       "      <th>0</th>\n",
       "      <td>2013-06-28 17:40:00</td>\n",
       "      <td>SEX OFFENSES FORCIBLE</td>\n",
       "      <td>FORCIBLE RAPE, BODILY FORCE</td>\n",
       "      <td>Friday</td>\n",
       "      <td>MISSION</td>\n",
       "      <td>NONE</td>\n",
       "      <td>2100 Block of MISSION ST</td>\n",
       "      <td>-122.419331</td>\n",
       "      <td>37.762264</td>\n",
       "      <td>141546</td>\n",
       "      <td>17</td>\n",
       "      <td>40</td>\n",
       "      <td>2013</td>\n",
       "      <td>6</td>\n",
       "      <td>28</td>\n",
       "      <td>5</td>\n",
       "    </tr>\n",
       "    <tr>\n",
       "      <th>1</th>\n",
       "      <td>2004-02-19 02:46:00</td>\n",
       "      <td>LIQUOR LAWS</td>\n",
       "      <td>CONSUMING ALCOHOL IN PUBLIC VIEW</td>\n",
       "      <td>Thursday</td>\n",
       "      <td>SOUTHERN</td>\n",
       "      <td>ARREST, BOOKED</td>\n",
       "      <td>1000 Block of MARKET ST</td>\n",
       "      <td>-122.411340</td>\n",
       "      <td>37.781271</td>\n",
       "      <td>794152</td>\n",
       "      <td>2</td>\n",
       "      <td>46</td>\n",
       "      <td>2004</td>\n",
       "      <td>2</td>\n",
       "      <td>19</td>\n",
       "      <td>4</td>\n",
       "    </tr>\n",
       "    <tr>\n",
       "      <th>2</th>\n",
       "      <td>2007-11-14 00:01:00</td>\n",
       "      <td>FRAUD</td>\n",
       "      <td>CREDIT CARD, THEFT BY USE OF</td>\n",
       "      <td>Wednesday</td>\n",
       "      <td>SOUTHERN</td>\n",
       "      <td>NONE</td>\n",
       "      <td>800 Block of BRYANT ST</td>\n",
       "      <td>-122.403405</td>\n",
       "      <td>37.775421</td>\n",
       "      <td>531205</td>\n",
       "      <td>0</td>\n",
       "      <td>1</td>\n",
       "      <td>2007</td>\n",
       "      <td>11</td>\n",
       "      <td>14</td>\n",
       "      <td>3</td>\n",
       "    </tr>\n",
       "    <tr>\n",
       "      <th>3</th>\n",
       "      <td>2007-12-27 18:30:00</td>\n",
       "      <td>ROBBERY</td>\n",
       "      <td>ROBBERY OF A CHAIN STORE WITH A GUN</td>\n",
       "      <td>Thursday</td>\n",
       "      <td>BAYVIEW</td>\n",
       "      <td>DISTRICT ATTORNEY REFUSES TO PROSECUTE</td>\n",
       "      <td>2400 Block of SAN BRUNO AV</td>\n",
       "      <td>-122.404715</td>\n",
       "      <td>37.730161</td>\n",
       "      <td>523137</td>\n",
       "      <td>18</td>\n",
       "      <td>30</td>\n",
       "      <td>2007</td>\n",
       "      <td>12</td>\n",
       "      <td>27</td>\n",
       "      <td>4</td>\n",
       "    </tr>\n",
       "    <tr>\n",
       "      <th>4</th>\n",
       "      <td>2012-09-09 17:02:00</td>\n",
       "      <td>OTHER OFFENSES</td>\n",
       "      <td>PROBATION VIOLATION</td>\n",
       "      <td>Sunday</td>\n",
       "      <td>SOUTHERN</td>\n",
       "      <td>ARREST, BOOKED</td>\n",
       "      <td>4TH ST / STEVENSON ST</td>\n",
       "      <td>-122.405239</td>\n",
       "      <td>37.785265</td>\n",
       "      <td>200968</td>\n",
       "      <td>17</td>\n",
       "      <td>2</td>\n",
       "      <td>2012</td>\n",
       "      <td>9</td>\n",
       "      <td>9</td>\n",
       "      <td>7</td>\n",
       "    </tr>\n",
       "  </tbody>\n",
       "</table>\n",
       "</div>"
      ],
      "text/plain": [
       "                Dates               Category  \\\n",
       "0 2013-06-28 17:40:00  SEX OFFENSES FORCIBLE   \n",
       "1 2004-02-19 02:46:00            LIQUOR LAWS   \n",
       "2 2007-11-14 00:01:00                  FRAUD   \n",
       "3 2007-12-27 18:30:00                ROBBERY   \n",
       "4 2012-09-09 17:02:00         OTHER OFFENSES   \n",
       "\n",
       "                              Descript  DayOfWeek PdDistrict  \\\n",
       "0          FORCIBLE RAPE, BODILY FORCE     Friday    MISSION   \n",
       "1     CONSUMING ALCOHOL IN PUBLIC VIEW   Thursday   SOUTHERN   \n",
       "2         CREDIT CARD, THEFT BY USE OF  Wednesday   SOUTHERN   \n",
       "3  ROBBERY OF A CHAIN STORE WITH A GUN   Thursday    BAYVIEW   \n",
       "4                  PROBATION VIOLATION     Sunday   SOUTHERN   \n",
       "\n",
       "                               Resolution                     Address  \\\n",
       "0                                    NONE    2100 Block of MISSION ST   \n",
       "1                          ARREST, BOOKED     1000 Block of MARKET ST   \n",
       "2                                    NONE      800 Block of BRYANT ST   \n",
       "3  DISTRICT ATTORNEY REFUSES TO PROSECUTE  2400 Block of SAN BRUNO AV   \n",
       "4                          ARREST, BOOKED       4TH ST / STEVENSON ST   \n",
       "\n",
       "            X          Y      Id  Hour  Minutes  Year  Month  Day  \\\n",
       "0 -122.419331  37.762264  141546    17       40  2013      6   28   \n",
       "1 -122.411340  37.781271  794152     2       46  2004      2   19   \n",
       "2 -122.403405  37.775421  531205     0        1  2007     11   14   \n",
       "3 -122.404715  37.730161  523137    18       30  2007     12   27   \n",
       "4 -122.405239  37.785265  200968    17        2  2012      9    9   \n",
       "\n",
       "   DayOfWeekNum  \n",
       "0             5  \n",
       "1             4  \n",
       "2             3  \n",
       "3             4  \n",
       "4             7  "
      ]
     },
     "execution_count": 6,
     "metadata": {},
     "output_type": "execute_result"
    }
   ],
   "source": [
    "data.head()"
   ]
  },
  {
   "cell_type": "code",
   "execution_count": 7,
   "metadata": {},
   "outputs": [],
   "source": [
    "labelencoder = LabelEncoder()"
   ]
  },
  {
   "cell_type": "code",
   "execution_count": 8,
   "metadata": {},
   "outputs": [],
   "source": [
    "data['ResolutionNum'] = labelencoder.fit_transform(data['Resolution'])\n",
    "data['PdDistrictNum'] = labelencoder.fit_transform(data['PdDistrict'])\n",
    "data['CategoryNum'] = labelencoder.fit_transform(data['Category'])\n",
    "\n",
    "test['ResolutionNum'] = labelencoder.fit_transform(test['Resolution'])\n",
    "test['PdDistrictNum'] = labelencoder.fit_transform(test['PdDistrict'])"
   ]
  },
  {
   "cell_type": "code",
   "execution_count": 9,
   "metadata": {},
   "outputs": [],
   "source": [
    "data = data[data.X < -121]\n",
    "data = data[data.Y < 40]\n",
    "\n",
    "test = test[test.X < -121]\n",
    "test = test[test.Y < 40]"
   ]
  },
  {
   "cell_type": "code",
   "execution_count": 10,
   "metadata": {},
   "outputs": [],
   "source": [
    "def getCapsAddress(i):\n",
    "    s=''\n",
    "    for j in i.split():\n",
    "        if(j.isupper()):\n",
    "            s=s+' '+j\n",
    "    return s[1:]\n",
    "\n",
    "data['newAddress'] = data.Address.apply(lambda a:getCapsAddress(a))\n",
    "test['newAddress'] = test.Address.apply(lambda a:getCapsAddress(a))"
   ]
  },
  {
   "cell_type": "code",
   "execution_count": 11,
   "metadata": {},
   "outputs": [],
   "source": [
    "data['newAddressNum'] = labelencoder.fit_transform(data.newAddress)\n",
    "test['newAddressNum'] = labelencoder.fit_transform(test.newAddress)"
   ]
  },
  {
   "cell_type": "code",
   "execution_count": 12,
   "metadata": {},
   "outputs": [
    {
     "name": "stdout",
     "output_type": "stream",
     "text": [
      "Index(['800 Block of BRYANT ST', '800 Block of MARKET ST',\n",
      "       '2000 Block of MISSION ST', '1000 Block of POTRERO AV',\n",
      "       '900 Block of MARKET ST', '0 Block of TURK ST', '0 Block of 6TH ST',\n",
      "       '300 Block of ELLIS ST', '400 Block of ELLIS ST',\n",
      "       '16TH ST / MISSION ST',\n",
      "       ...\n",
      "       '900 Block of GRANT AV', 'CAPP ST / 19TH ST', '1000 Block of GRANT AV',\n",
      "       '0 Block of ZOO RD', '1100 Block of ELLIS ST', 'MARKET ST / HYDE ST',\n",
      "       '1800 Block of SUTTER ST', '2300 Block of GOLDEN GATE AV',\n",
      "       '800 Block of MISSOURI ST', '600 Block of ALABAMA ST'],\n",
      "      dtype='object', length=1616)\n",
      "(867806, 23)\n",
      "475\n"
     ]
    }
   ],
   "source": [
    "data['Address_CrossRoad'] = data['Address'].str.contains('/')\n",
    "test['Address_CrossRoad'] = test['Address'].str.contains('/')\n",
    "\n",
    "topN_address_list = data['Address'].value_counts()\n",
    "topN_address_list = topN_address_list[topN_address_list >=100]\n",
    "topN_address_list = topN_address_list.index\n",
    "print(topN_address_list)\n",
    "\n",
    "data['Address_clean'] = data['Address']\n",
    "test['Address_clean'] = test['Address']\n",
    "data.loc[~data['Address'].isin(topN_address_list), 'Address_clean'] = 'Others'\n",
    "test.loc[~test['Address'].isin(topN_address_list), 'Address_clean'] = 'Others'\n",
    "print(data.shape)\n",
    "\n",
    "crossload = data[data['Address_clean'].str.contains('/')]\n",
    "crossroad_list = crossload['Address_clean'].unique()\n",
    "print(len(crossroad_list))"
   ]
  },
  {
   "cell_type": "code",
   "execution_count": 13,
   "metadata": {},
   "outputs": [
    {
     "name": "stdout",
     "output_type": "stream",
     "text": [
      "321\n",
      "(867806, 24)\n"
     ]
    }
   ],
   "source": [
    "for address in crossroad_list:\n",
    "    address_split = address.split('/')\n",
    "    reverse_address = address_split[1].strip() + ' / ' + address_split[0].strip()\n",
    "    data.loc[data['Address_clean'] == reverse_address, 'Address_clean'] = address\n",
    "    test.loc[test['Address_clean'] == reverse_address, 'Address_clean'] = address\n",
    "crossload = data[data['Address_clean'].str.contains('/')]\n",
    "crossroad_list = crossload['Address_clean'].unique()\n",
    "print(len(crossroad_list))\n",
    "\n",
    "le = LabelEncoder()\n",
    "data['Address_clean_encode'] = le.fit_transform(data['Address_clean'])\n",
    "print(data.shape)"
   ]
  },
  {
   "cell_type": "code",
   "execution_count": 14,
   "metadata": {},
   "outputs": [],
   "source": [
    "le = LabelEncoder()\n",
    "test['Address_clean_encode'] = le.fit_transform(test['Address_clean'])"
   ]
  },
  {
   "cell_type": "code",
   "execution_count": 15,
   "metadata": {},
   "outputs": [
    {
     "name": "stdout",
     "output_type": "stream",
     "text": [
      "CategoryNum             1.000000\n",
      "Address_clean_encode    0.070796\n",
      "Address_CrossRoad       0.069896\n",
      "ResolutionNum           0.039676\n",
      "Hour                    0.023701\n",
      "Id                      0.016881\n",
      "DayOfWeekNum            0.000537\n",
      "Day                     0.000354\n",
      "Month                  -0.000360\n",
      "Year                   -0.016795\n",
      "newAddressNum          -0.019639\n",
      "Minutes                -0.021945\n",
      "X                      -0.030525\n",
      "PdDistrictNum          -0.039477\n",
      "Y                      -0.058963\n",
      "Name: CategoryNum, dtype: float64\n"
     ]
    }
   ],
   "source": [
    "corr = data.corr()\n",
    "print(corr['CategoryNum'].sort_values(ascending=False))"
   ]
  },
  {
   "cell_type": "code",
   "execution_count": 16,
   "metadata": {},
   "outputs": [],
   "source": [
    "# data.drop('Dates', axis=1, inplace=True)\n",
    "# data.drop('Descript', axis=1, inplace=True)\n",
    "# data.drop('DayOfWeek', axis=1, inplace=True)\n",
    "# data.drop('PdDistrict', axis=1, inplace=True)\n",
    "# data.drop('Resolution', axis=1, inplace=True)\n",
    "# data.drop('Address', axis=1, inplace=True)\n",
    "# data.drop('Street', axis=1, inplace=True)\n",
    "# data.drop('Category', axis=1, inplace=True)\n",
    "# data.drop('Minutes', axis=1, inplace=True)\n",
    "# data.drop('newAddress', axis=1, inplace=True)\n",
    "# data.drop('Id',axis=1,inplace=True)"
   ]
  },
  {
   "cell_type": "code",
   "execution_count": 17,
   "metadata": {},
   "outputs": [],
   "source": [
    "features=['X','Y','Hour','Minutes','Year','Month','Day','DayOfWeekNum', 'PdDistrictNum',\n",
    "          'Address_CrossRoad', 'Address_clean_encode']"
   ]
  },
  {
   "cell_type": "code",
   "execution_count": null,
   "metadata": {},
   "outputs": [],
   "source": [
    "# for i in data.CategoryNum.unique():\n",
    "#     print(i,labelencoder.inverse_transform(data.CategoryNum.unique())[i])\n",
    "#     data[data.CategoryNum==i].hist(bins=50, figsize=(20,15))\n",
    "#     plt.show()\n",
    "data.hist(bins=50, figsize=(20,15))\n",
    "plt.show()"
   ]
  },
  {
   "cell_type": "code",
   "execution_count": 18,
   "metadata": {},
   "outputs": [],
   "source": [
    "# Random seed has been set - As per the guidlines of the competition\n",
    "train, test = train_test_split(data, test_size=0.3, random_state=3, shuffle=True)"
   ]
  },
  {
   "cell_type": "code",
   "execution_count": 19,
   "metadata": {},
   "outputs": [],
   "source": [
    "ytrain_ = train['CategoryNum']\n",
    "Xtrain_ = train[features]\n",
    "ytest_ = test['CategoryNum']\n",
    "Xtest_ = test[features]"
   ]
  },
  {
   "cell_type": "code",
   "execution_count": null,
   "metadata": {},
   "outputs": [],
   "source": [
    "y_train = data['CategoryNum']\n",
    "X_train = data[features]\n",
    "# y_test = test['CategoryNum']\n",
    "X_test = test[features]"
   ]
  },
  {
   "cell_type": "code",
   "execution_count": null,
   "metadata": {},
   "outputs": [],
   "source": [
    "X_test.shape"
   ]
  },
  {
   "cell_type": "code",
   "execution_count": null,
   "metadata": {},
   "outputs": [],
   "source": [
    "from sklearn.linear_model import LogisticRegression\n",
    "clf = LogisticRegression(random_state=0, solver='lbfgs', multi_class='multinomial',max_iter=1000)\n",
    "clf.fit(X_train,y_train)\n",
    "pred = clf.predict_proba(X_test)\n",
    "log_loss(y_test,pred)"
   ]
  },
  {
   "cell_type": "code",
   "execution_count": null,
   "metadata": {},
   "outputs": [],
   "source": [
    "from sklearn.naive_bayes import GaussianNB\n",
    "clf = GaussianNB()\n",
    "clf.fit(Xtrain_,ytrain_)\n",
    "print(clf.score(Xtest_,ytest_))\n",
    "pred = clf.predict_proba(Xtest_)\n",
    "print(log_loss(ytest_,pred))"
   ]
  },
  {
   "cell_type": "code",
   "execution_count": 32,
   "metadata": {},
   "outputs": [],
   "source": [
    "from sklearn.ensemble import RandomForestClassifier\n",
    "\n",
    "random_state = 42\n",
    "max_depth = 7\n",
    "min_weight_fraction_leaf = 1\n",
    "n_estimators = 500\n",
    "n_jobs = -1\n",
    "\n",
    "model = RandomForestClassifier(\n",
    "    max_depth=max_depth,\n",
    "    n_estimators=n_estimators,\n",
    "    n_jobs=n_jobs,\n",
    "    min_weight_fraction_leaf=min_weight_fraction_leaf\n",
    ")\n",
    "\n",
    "# model.fit(Xtrain_,ytrain_)\n",
    "# print(model.score(Xtest_,ytest_))\n",
    "# pred = model.predict_proba(Xtest_)\n",
    "# print(log_loss(ytest_,pred))"
   ]
  },
  {
   "cell_type": "code",
   "execution_count": 53,
   "metadata": {},
   "outputs": [],
   "source": [
    "import xgboost as xgb\n",
    "\n",
    "seed = 42\n",
    "max_depth = 9\n",
    "learning_rate = 0.2\n",
    "min_child_weight = 1.5\n",
    "n_estimators = 100\n",
    "\n",
    "model = xgb.XGBClassifier(\n",
    "    objective='multi:softprob', \n",
    "    seed=seed, \n",
    "    max_depth=max_depth,\n",
    "    nthread=8,\n",
    "    n_jobs=-1,\n",
    "    min_child_weight=min_child_weight,\n",
    "    learning_rate=learning_rate,\n",
    "    n_estimators = n_estimators\n",
    ")"
   ]
  },
  {
   "cell_type": "code",
   "execution_count": 54,
   "metadata": {},
   "outputs": [
    {
     "data": {
      "text/plain": [
       "XGBClassifier(base_score=0.5, booster='gbtree', colsample_bylevel=1,\n",
       "       colsample_bytree=1, gamma=0, learning_rate=0.2, max_delta_step=0,\n",
       "       max_depth=9, min_child_weight=1.5, missing=None, n_estimators=100,\n",
       "       n_jobs=-1, nthread=8, objective='multi:softprob', random_state=0,\n",
       "       reg_alpha=0, reg_lambda=1, scale_pos_weight=1, seed=42, silent=True,\n",
       "       subsample=1)"
      ]
     },
     "execution_count": 54,
     "metadata": {},
     "output_type": "execute_result"
    }
   ],
   "source": [
    "model"
   ]
  },
  {
   "cell_type": "code",
   "execution_count": 55,
   "metadata": {},
   "outputs": [],
   "source": [
    "score = -1 * cross_val_score(model, Xtrain_, ytrain_, scoring='neg_log_loss', cv=5, n_jobs=-1)"
   ]
  },
  {
   "cell_type": "code",
   "execution_count": 56,
   "metadata": {},
   "outputs": [
    {
     "name": "stdout",
     "output_type": "stream",
     "text": [
      "Score = 2.23807\n"
     ]
    }
   ],
   "source": [
    "print(\"Score = {0:.5f}\".format(score.mean()))"
   ]
  },
  {
   "cell_type": "code",
   "execution_count": 57,
   "metadata": {},
   "outputs": [
    {
     "data": {
      "text/plain": [
       "array([2.2357708 , 2.23988175, 2.24264654, 2.2370186 , 2.23504664])"
      ]
     },
     "execution_count": 57,
     "metadata": {},
     "output_type": "execute_result"
    }
   ],
   "source": [
    "score"
   ]
  },
  {
   "cell_type": "code",
   "execution_count": null,
   "metadata": {},
   "outputs": [],
   "source": [
    "model.fit(X_train,y_train)"
   ]
  },
  {
   "cell_type": "code",
   "execution_count": null,
   "metadata": {},
   "outputs": [],
   "source": [
    "import pickle"
   ]
  },
  {
   "cell_type": "code",
   "execution_count": null,
   "metadata": {},
   "outputs": [],
   "source": [
    "pickle.dump(model, open(\"xgboost_wo_res.p\", \"wb\"))"
   ]
  },
  {
   "cell_type": "code",
   "execution_count": null,
   "metadata": {},
   "outputs": [],
   "source": [
    "model = pickle.load(open(\"xgboost_wo_res.p\", \"rb\"))\n",
    "model"
   ]
  },
  {
   "cell_type": "code",
   "execution_count": null,
   "metadata": {},
   "outputs": [],
   "source": [
    "model.score(Xtest_,ytest_)"
   ]
  },
  {
   "cell_type": "code",
   "execution_count": null,
   "metadata": {},
   "outputs": [],
   "source": [
    "predictions = model.predict_proba(X_test)"
   ]
  },
  {
   "cell_type": "code",
   "execution_count": null,
   "metadata": {},
   "outputs": [],
   "source": [
    "submission = pd.DataFrame(predictions)\n",
    "submission.columns = sorted(data.Category.unique())\n",
    "submission['Id'] = test['Id']\n",
    "submission"
   ]
  },
  {
   "cell_type": "code",
   "execution_count": null,
   "metadata": {},
   "outputs": [],
   "source": [
    "submission.to_csv('submission.csv', index=False)"
   ]
  },
  {
   "cell_type": "markdown",
   "metadata": {},
   "source": [
    "TODO\n",
    "- Pick relevant/independent columns and pass to the classifier\n",
    "- Normalize the data\n",
    "- Perform Exploratory Data Analysis, Visualization\n",
    "- Finalize the feature list\n",
    "- Build the models\n",
    "- Voila!"
   ]
  }
 ],
 "metadata": {
  "kernelspec": {
   "display_name": "Python 3",
   "language": "python",
   "name": "python3"
  },
  "language_info": {
   "codemirror_mode": {
    "name": "ipython",
    "version": 3
   },
   "file_extension": ".py",
   "mimetype": "text/x-python",
   "name": "python",
   "nbconvert_exporter": "python",
   "pygments_lexer": "ipython3",
   "version": "3.5.6"
  }
 },
 "nbformat": 4,
 "nbformat_minor": 2
}
