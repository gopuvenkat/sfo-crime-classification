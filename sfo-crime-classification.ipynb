{
 "cells": [
  {
   "cell_type": "code",
   "execution_count": 1,
   "metadata": {},
   "outputs": [],
   "source": [
    "import numpy as np\n",
    "import pandas as pd\n",
    "import matplotlib as mpl\n",
    "from sklearn.model_selection import train_test_split"
   ]
  },
  {
   "cell_type": "code",
   "execution_count": 2,
   "metadata": {},
   "outputs": [],
   "source": [
    "# Dates have to extracted\n",
    "data = pd.read_csv('train.csv', parse_dates=['Dates'])"
   ]
  },
  {
   "cell_type": "code",
   "execution_count": 3,
   "metadata": {},
   "outputs": [
    {
     "name": "stdout",
     "output_type": "stream",
     "text": [
      "<class 'pandas.core.frame.DataFrame'>\n",
      "RangeIndex: 867873 entries, 0 to 867872\n",
      "Data columns (total 10 columns):\n",
      "Dates         867873 non-null datetime64[ns]\n",
      "Category      867873 non-null object\n",
      "Descript      867873 non-null object\n",
      "DayOfWeek     867873 non-null object\n",
      "PdDistrict    867873 non-null object\n",
      "Resolution    867873 non-null object\n",
      "Address       867873 non-null object\n",
      "X             867873 non-null float64\n",
      "Y             867873 non-null float64\n",
      "Id            867873 non-null int64\n",
      "dtypes: datetime64[ns](1), float64(2), int64(1), object(6)\n",
      "memory usage: 66.2+ MB\n"
     ]
    }
   ],
   "source": [
    "data.info()"
   ]
  },
  {
   "cell_type": "code",
   "execution_count": 4,
   "metadata": {},
   "outputs": [
    {
     "data": {
      "text/plain": [
       "False"
      ]
     },
     "execution_count": 4,
     "metadata": {},
     "output_type": "execute_result"
    }
   ],
   "source": [
    "# No null values in the data-frame\n",
    "data.isnull().values.any()"
   ]
  },
  {
   "cell_type": "code",
   "execution_count": 5,
   "metadata": {},
   "outputs": [],
   "source": [
    "# Dates\n",
    "\n",
    "data_week_dict = {\n",
    "    'Monday': 1,\n",
    "    'Tuesday':2,\n",
    "    'Wednesday':3,\n",
    "    'Thursday':4,\n",
    "    'Friday':5,\n",
    "    'Saturday':6,\n",
    "    'Sunday':7\n",
    "}\n",
    "\n",
    "data['Hour'] = data.Dates.dt.hour\n",
    "data['Minutes'] = data.Dates.dt.minute\n",
    "data['Year'] = data.Dates.dt.year\n",
    "data['Month'] = data.Dates.dt.month\n",
    "data['Day'] = data.Dates.dt.day\n",
    "data['DayOfWeekNum'] = data['DayOfWeek'].replace(data_week_dict)"
   ]
  },
  {
   "cell_type": "code",
   "execution_count": 6,
   "metadata": {},
   "outputs": [],
   "source": [
    "# Address\n",
    "# Think of an alternative solution - Issue when the attribute contains two streets\n",
    "# Logically, 'street A / street B' == 'street B / street A'\n",
    "# Such cases would fails this step\n",
    "\n",
    "def street_from_address(address):\n",
    "    street = address.split()\n",
    "    return (' '.join(street[-2:]))\n",
    "\n",
    "data['Street'] = data['Address'].apply(lambda a:street_from_address(a))\n",
    "\n",
    "streets = data['Street'].unique()\n",
    "data_street_dict = dict()\n",
    "ctr = 1\n",
    "for s in streets:\n",
    "    data_street_dict[s] = ctr\n",
    "    ctr += 1\n",
    "\n",
    "data['StreetNum'] = data['Street'].replace(data_street_dict)"
   ]
  },
  {
   "cell_type": "code",
   "execution_count": 7,
   "metadata": {},
   "outputs": [],
   "source": [
    "# Police Department District\n",
    "\n",
    "district = data['PdDistrict'].unique()\n",
    "data_district_dict = {}\n",
    "ctr = 1\n",
    "\n",
    "for d in district:\n",
    "    data_district_dict[d] = ctr\n",
    "    ctr += 1\n",
    "\n",
    "data['PdDistrictNum'] = data['PdDistrict'].replace(data_district_dict)"
   ]
  },
  {
   "cell_type": "code",
   "execution_count": 8,
   "metadata": {},
   "outputs": [],
   "source": [
    "# X and Y\n",
    "\n",
    "data = data[data.X < -121]\n",
    "data = data[data.Y < 40]"
   ]
  },
  {
   "cell_type": "code",
   "execution_count": 9,
   "metadata": {},
   "outputs": [],
   "source": [
    "# Resolution\n",
    "\n",
    "resolutions = data['Resolution'].unique()\n",
    "data_resolution_dict = dict()\n",
    "ctr = 1\n",
    "for r in resolutions:\n",
    "    data_resolution_dict[r] = ctr\n",
    "    ctr += 1\n",
    "\n",
    "data['ResolutionNum'] = data['Resolution'].replace(data_resolution_dict)"
   ]
  },
  {
   "cell_type": "code",
   "execution_count": 10,
   "metadata": {},
   "outputs": [],
   "source": [
    "# Target Variable - Category\n",
    "\n",
    "target = data['Category'].unique()\n",
    "data_category_dict = dict()\n",
    "ctr = 1\n",
    "for t in target:\n",
    "    data_category_dict[t] = ctr\n",
    "    ctr += 1\n",
    "\n",
    "data['CategoryNum'] = data['Category'].replace(data_category_dict)"
   ]
  },
  {
   "cell_type": "code",
   "execution_count": 11,
   "metadata": {},
   "outputs": [
    {
     "name": "stdout",
     "output_type": "stream",
     "text": [
      "CategoryNum      1.000000\n",
      "ResolutionNum    0.025444\n",
      "StreetNum        0.015281\n",
      "DayOfWeekNum     0.011669\n",
      "Month            0.009588\n",
      "Id               0.004396\n",
      "Day              0.000296\n",
      "Year            -0.005110\n",
      "PdDistrictNum   -0.005962\n",
      "Hour            -0.013211\n",
      "Y               -0.013261\n",
      "X               -0.023153\n",
      "Minutes         -0.046142\n",
      "Name: CategoryNum, dtype: float64\n"
     ]
    }
   ],
   "source": [
    "corr = data.corr()\n",
    "print(corr['CategoryNum'].sort_values(ascending=False))"
   ]
  },
  {
   "cell_type": "code",
   "execution_count": 12,
   "metadata": {},
   "outputs": [],
   "source": [
    "data.drop('Dates', axis=1, inplace=True)\n",
    "data.drop('Descript', axis=1, inplace=True)\n",
    "data.drop('DayOfWeek', axis=1, inplace=True)\n",
    "data.drop('PdDistrict', axis=1, inplace=True)\n",
    "data.drop('Resolution', axis=1, inplace=True)\n",
    "data.drop('Address', axis=1, inplace=True)\n",
    "data.drop('Street', axis=1, inplace=True)\n",
    "data.drop('Category', axis=1, inplace=True)"
   ]
  },
  {
   "cell_type": "code",
   "execution_count": 13,
   "metadata": {},
   "outputs": [],
   "source": [
    "# Random seed has been set - As per the guidlines of the competition\n",
    "train, validate = train_test_split(data, test_size=0.2, random_state=3, shuffle=True)"
   ]
  },
  {
   "cell_type": "code",
   "execution_count": 14,
   "metadata": {},
   "outputs": [
    {
     "data": {
      "text/plain": [
       "Index(['X', 'Y', 'Id', 'Hour', 'Minutes', 'Year', 'Month', 'Day',\n",
       "       'DayOfWeekNum', 'StreetNum', 'PdDistrictNum', 'ResolutionNum',\n",
       "       'CategoryNum'],\n",
       "      dtype='object')"
      ]
     },
     "execution_count": 14,
     "metadata": {},
     "output_type": "execute_result"
    }
   ],
   "source": [
    "data.columns"
   ]
  },
  {
   "cell_type": "code",
   "execution_count": 15,
   "metadata": {},
   "outputs": [],
   "source": [
    "y_train = data['CategoryNum']\n",
    "X_train = data.loc[:, data.columns!='CategoryNum']"
   ]
  },
  {
   "cell_type": "code",
   "execution_count": 16,
   "metadata": {},
   "outputs": [],
   "source": [
    "import xgboost as xgb\n",
    "from sklearn.model_selection import cross_val_score\n",
    "\n",
    "seed = 42\n",
    "\n",
    "model = xgb.XGBClassifier(objective='multi:softprob', seed=seed)"
   ]
  },
  {
   "cell_type": "code",
   "execution_count": null,
   "metadata": {},
   "outputs": [],
   "source": [
    "score = -1 * cross_val_score(model, X_train, y_train, scoring='neg_log_loss', cv=5).mean()"
   ]
  },
  {
   "cell_type": "code",
   "execution_count": null,
   "metadata": {},
   "outputs": [],
   "source": [
    "print(\"Score = {0:.5f}\".format(score))"
   ]
  },
  {
   "cell_type": "markdown",
   "metadata": {},
   "source": [
    "TODO\n",
    "- Pick relevant/independent columns and pass to the classifier\n",
    "- Normalize the data\n",
    "- Perform Exploratory Data Analysis, Visualization\n",
    "- Finalize the feature list\n",
    "- Build the models\n",
    "- Voila!"
   ]
  }
 ],
 "metadata": {
  "kernelspec": {
   "display_name": "ML",
   "language": "python",
   "name": "ml"
  },
  "language_info": {
   "codemirror_mode": {
    "name": "ipython",
    "version": 3
   },
   "file_extension": ".py",
   "mimetype": "text/x-python",
   "name": "python",
   "nbconvert_exporter": "python",
   "pygments_lexer": "ipython3",
   "version": "3.5.2"
  }
 },
 "nbformat": 4,
 "nbformat_minor": 2
}
