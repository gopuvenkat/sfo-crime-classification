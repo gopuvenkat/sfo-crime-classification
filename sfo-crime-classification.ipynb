{
 "cells": [
  {
   "cell_type": "code",
   "execution_count": null,
   "metadata": {},
   "outputs": [],
   "source": [
    "import numpy as np\n",
    "import pandas as pd\n",
    "import matplotlib.pyplot as plt\n",
    "from sklearn.model_selection import train_test_split\n",
    "from sklearn.preprocessing import LabelEncoder,scale\n",
    "from sklearn.model_selection import cross_val_score\n",
    "from sklearn.metrics import log_loss"
   ]
  },
  {
   "cell_type": "code",
   "execution_count": null,
   "metadata": {},
   "outputs": [],
   "source": [
    "# Dates have to extracted\n",
    "# data = pd.read_csv('train.csv', parse_dates=['Dates'])\n",
    "data = pd.read_csv('train.csv', parse_dates=['Dates'])\n",
    "test = pd.read_csv('test.csv', parse_dates=['Dates'])"
   ]
  },
  {
   "cell_type": "code",
   "execution_count": null,
   "metadata": {},
   "outputs": [],
   "source": [
    "data.info()"
   ]
  },
  {
   "cell_type": "code",
   "execution_count": null,
   "metadata": {},
   "outputs": [],
   "source": [
    "# No null values in the data-frame\n",
    "data.isnull().values.any()"
   ]
  },
  {
   "cell_type": "code",
   "execution_count": null,
   "metadata": {},
   "outputs": [],
   "source": [
    "labelencoder = LabelEncoder()"
   ]
  },
  {
   "cell_type": "code",
   "execution_count": null,
   "metadata": {},
   "outputs": [],
   "source": [
    "data['Hour'] = data.Dates.dt.hour\n",
    "data['Minutes'] = data.Dates.dt.minute\n",
    "data['Year'] = data.Dates.dt.year\n",
    "data['Month'] = data.Dates.dt.month\n",
    "data['Day'] = data.Dates.dt.day\n",
    "data['DayOfWeekNum'] = labelencoder.fit_transform(data['DayOfWeek'])\n",
    "\n",
    "test['Hour'] = test.Dates.dt.hour\n",
    "test['Minutes'] = test.Dates.dt.minute\n",
    "test['Year'] = test.Dates.dt.year\n",
    "test['Month'] = test.Dates.dt.month\n",
    "test['Day'] = test.Dates.dt.day\n",
    "test['DayOfWeekNum'] = labelencoder.fit_transform(test['DayOfWeek'])"
   ]
  },
  {
   "cell_type": "code",
   "execution_count": null,
   "metadata": {},
   "outputs": [],
   "source": [
    "data.columns"
   ]
  },
  {
   "cell_type": "code",
   "execution_count": null,
   "metadata": {},
   "outputs": [],
   "source": [
    "data['ResolutionNum'] = labelencoder.fit_transform(data['Resolution'])\n",
    "data['PdDistrictNum'] = labelencoder.fit_transform(data['PdDistrict'])\n",
    "data['CategoryNum'] = labelencoder.fit_transform(data['Category'])\n",
    "\n",
    "test['ResolutionNum'] = labelencoder.fit_transform(test['Resolution'])\n",
    "test['PdDistrictNum'] = labelencoder.fit_transform(test['PdDistrict'])"
   ]
  },
  {
   "cell_type": "code",
   "execution_count": null,
   "metadata": {},
   "outputs": [],
   "source": [
    "data = data[data.X < -121]\n",
    "data = data[data.Y < 40]\n",
    "\n",
    "test = test[test.X < -121]\n",
    "test = test[test.Y < 40]"
   ]
  },
  {
   "cell_type": "code",
   "execution_count": null,
   "metadata": {},
   "outputs": [],
   "source": [
    "data['Address_CrossRoad'] = data['Address'].str.contains('/')\n",
    "test['Address_CrossRoad'] = test['Address'].str.contains('/')\n",
    "\n",
    "topN_address_list = data['Address'].value_counts()\n",
    "topN_address_list = topN_address_list[topN_address_list >=100]\n",
    "topN_address_list = topN_address_list.index\n",
    "\n",
    "data['Address_clean'] = data['Address']\n",
    "test['Address_clean'] = test['Address']\n",
    "data.loc[~data['Address'].isin(topN_address_list), 'Address_clean'] = 'Others'\n",
    "test.loc[~test['Address'].isin(topN_address_list), 'Address_clean'] = 'Others'\n",
    "\n",
    "crossload = data[data['Address_clean'].str.contains('/')]\n",
    "crossroad_list = crossload['Address_clean'].unique()"
   ]
  },
  {
   "cell_type": "code",
   "execution_count": null,
   "metadata": {},
   "outputs": [],
   "source": [
    "for address in crossroad_list:\n",
    "    address_split = address.split('/')\n",
    "    reverse_address = address_split[1].strip() + ' / ' + address_split[0].strip()\n",
    "    data.loc[data['Address_clean'] == reverse_address, 'Address_clean'] = address\n",
    "    test.loc[test['Address_clean'] == reverse_address, 'Address_clean'] = address\n",
    "crossload = data[data['Address_clean'].str.contains('/')]\n",
    "crossroad_list = crossload['Address_clean'].unique()\n",
    "\n",
    "le = LabelEncoder()\n",
    "data['Address_clean_encode'] = le.fit_transform(data['Address_clean'])"
   ]
  },
  {
   "cell_type": "code",
   "execution_count": null,
   "metadata": {},
   "outputs": [],
   "source": [
    "le = LabelEncoder()\n",
    "test['Address_clean_encode'] = le.fit_transform(test['Address_clean'])"
   ]
  },
  {
   "cell_type": "code",
   "execution_count": null,
   "metadata": {},
   "outputs": [],
   "source": [
    "corr = data.corr()\n",
    "print(corr['CategoryNum'].sort_values(ascending=False))"
   ]
  },
  {
   "cell_type": "code",
   "execution_count": null,
   "metadata": {},
   "outputs": [],
   "source": [
    "features = ['X','Y','Hour','Minutes','Year','Month','Day','DayOfWeekNum', 'PdDistrictNum',\n",
    "       'ResolutionNum','Address_CrossRoad', 'Address_clean_encode']"
   ]
  },
  {
   "cell_type": "code",
   "execution_count": null,
   "metadata": {},
   "outputs": [],
   "source": [
    "# Random seed has been set - As per the guidlines of the competition\n",
    "train_, test_ = train_test_split(data, test_size=0.3, random_state=3, shuffle=True)"
   ]
  },
  {
   "cell_type": "code",
   "execution_count": null,
   "metadata": {},
   "outputs": [],
   "source": [
    "X_train_ = train_[features]\n",
    "y_train_ = train_['CategoryNum']\n",
    "\n",
    "X_test_ = test_[features]\n",
    "y_test_ = test_['CategoryNum']\n",
    "\n",
    "X_train = data[features]\n",
    "y_train = data['CategoryNum']"
   ]
  },
  {
   "cell_type": "code",
   "execution_count": null,
   "metadata": {},
   "outputs": [],
   "source": [
    "from sklearn.linear_model import LogisticRegression\n",
    "clf = LogisticRegression(random_state=0, solver='lbfgs', multi_class='multinomial',max_iter=1000)\n",
    "clf.fit(X_train,y_train)\n",
    "pred = clf.predict_proba(X_test)\n",
    "log_loss(y_test,pred)"
   ]
  },
  {
   "cell_type": "code",
   "execution_count": null,
   "metadata": {},
   "outputs": [],
   "source": [
    "from sklearn.tree import DecisionTreeClassifier\n",
    "clf = DecisionTreeClassifier(max_depth=8)\n",
    "clf.fit(X_train,y_train)\n",
    "print(clf.score(X_test,y_test))\n",
    "pred = clf.predict_proba(X_test)\n",
    "print(log_loss(y_test,pred))"
   ]
  },
  {
   "cell_type": "code",
   "execution_count": null,
   "metadata": {},
   "outputs": [],
   "source": [
    "from sklearn.naive_bayes import GaussianNB\n",
    "clf = GaussianNB()\n",
    "clf.fit(X_train,y_train)\n",
    "pred = clf.predict_proba(X_test)\n",
    "log_loss(y_test,pred)"
   ]
  },
  {
   "cell_type": "code",
   "execution_count": null,
   "metadata": {},
   "outputs": [],
   "source": [
    "import xgboost as xgb\n",
    "seed = 42\n",
    "model = xgb.XGBClassifier(objective='multi:softprob', seed=seed, max_depth=8)"
   ]
  },
  {
   "cell_type": "code",
   "execution_count": null,
   "metadata": {},
   "outputs": [],
   "source": [
    "score = -1 * cross_val_score(model, X_train, y_train, scoring='neg_log_loss', cv=3, n_jobs=-1)"
   ]
  },
  {
   "cell_type": "code",
   "execution_count": null,
   "metadata": {},
   "outputs": [],
   "source": [
    "print(\"Score = {0:.5f}\".format(score.mean()))"
   ]
  },
  {
   "cell_type": "code",
   "execution_count": null,
   "metadata": {},
   "outputs": [],
   "source": [
    "model.fit(X_train,y_train)"
   ]
  },
  {
   "cell_type": "code",
   "execution_count": null,
   "metadata": {},
   "outputs": [],
   "source": [
    "import pickle"
   ]
  },
  {
   "cell_type": "code",
   "execution_count": null,
   "metadata": {},
   "outputs": [],
   "source": [
    "pickle.dump(model, open(\"xgboost.p\", \"wb\"))"
   ]
  },
  {
   "cell_type": "code",
   "execution_count": null,
   "metadata": {},
   "outputs": [],
   "source": [
    "model = pickle.load(open(\"xgboost.p\", \"rb\"))\n",
    "model"
   ]
  },
  {
   "cell_type": "code",
   "execution_count": null,
   "metadata": {},
   "outputs": [],
   "source": [
    "predictions = model.predict_proba(X_test)"
   ]
  },
  {
   "cell_type": "code",
   "execution_count": null,
   "metadata": {},
   "outputs": [],
   "source": [
    "submission = pd.DataFrame(predictions)\n",
    "submission.columns = sorted(data.Category.unique())\n",
    "submission['Id'] = test['Id']"
   ]
  },
  {
   "cell_type": "code",
   "execution_count": null,
   "metadata": {},
   "outputs": [],
   "source": [
    "submission.to_csv('submission.csv', index=False)"
   ]
  },
  {
   "cell_type": "markdown",
   "metadata": {},
   "source": [
    "TODO\n",
    "- Pick relevant/independent columns and pass to the classifier\n",
    "- Normalize the data\n",
    "- Perform Exploratory Data Analysis, Visualization\n",
    "- Finalize the feature list\n",
    "- Build the models\n",
    "- Voila!"
   ]
  }
 ],
 "metadata": {
  "kernelspec": {
   "display_name": "ML",
   "language": "python",
   "name": "ml"
  },
  "language_info": {
   "codemirror_mode": {
    "name": "ipython",
    "version": 3
   },
   "file_extension": ".py",
   "mimetype": "text/x-python",
   "name": "python",
   "nbconvert_exporter": "python",
   "pygments_lexer": "ipython3",
   "version": "3.5.2"
  }
 },
 "nbformat": 4,
 "nbformat_minor": 2
}
